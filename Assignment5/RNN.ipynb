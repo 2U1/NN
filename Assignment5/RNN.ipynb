{
 "cells": [
  {
   "cell_type": "code",
   "execution_count": 64,
   "metadata": {},
   "outputs": [],
   "source": [
    "import numpy as np\n",
    "import torch\n",
    "import torch.nn as nn\n",
    "import torch.nn.functional as F\n",
    "import torch.optim as optim\n",
    "import matplotlib.pyplot as plt\n",
    "import os\n",
    "import re\n",
    "import functools\n",
    "from tqdm.notebook import tqdm\n",
    "import subprocess\n",
    "import glob\n",
    "from IPython import display as ipythondisplay"
   ]
  },
  {
   "cell_type": "code",
   "execution_count": 57,
   "metadata": {},
   "outputs": [],
   "source": [
    "def make_datapath_list(rootpath):\n",
    "    alphabet = 'ABCDEFGHIJKLMNOPQRSTUVWXYZ'\n",
    "    \n",
    "\n",
    "    path_list = []\n",
    "    \n",
    "    for c in tqdm(alphabet):\n",
    "        target_path = os.path.join(rootpath + c + '/*.abc')\n",
    "        for path in glob.glob(target_path):\n",
    "            path_list.append(path)\n",
    "\n",
    "    return path_list"
   ]
  },
  {
   "cell_type": "code",
   "execution_count": 35,
   "metadata": {},
   "outputs": [],
   "source": [
    "def extract_song_data(text):\n",
    "    # extract song from abc notation\n",
    "    # remove header\n",
    "    text = re.sub(r'%%.*', '', text)\n",
    "    text = text.strip()\n",
    "    text = re.sub(r'\\n{2,}',r'\\n',text)\n",
    "    return text"
   ]
  },
  {
   "cell_type": "code",
   "execution_count": null,
   "metadata": {},
   "outputs": [],
   "source": [
    "def save_song_to_abc(song, filename):\n",
    "    save_name = \"/result/{}.abc\".format(filename)\n",
    "    with open(save_name, 'w') as f:\n",
    "        f.write(song)\n",
    "    \n",
    "    return filename\n",
    "\n",
    "def abc2wav(abc_file):\n",
    "    suf = abc_file.rsrip('.abc')\n",
    "    cmd = \"abc2midi {} -o {}\".format(abc_file, suf + \".mid\")\n",
    "    os.system(cmd)\n",
    "    cmd = \"timidity {}.mid -Ow {}.wav\".format(suf, suf)\n",
    "\n",
    "    return os.system()\n",
    "\n",
    "def play_wav(wav_file):\n",
    "    return ipythondisplay.Audio(wav_file)\n",
    "\n",
    "def play_song(song):\n",
    "    basename = save_song_to_abc(song)\n",
    "    ret = abc2wav(basename + \".abc\")\n",
    "    if ret == 0:\n",
    "        return play_wav(basename + \".wav\")\n",
    "    \n",
    "    return None"
   ]
  },
  {
   "cell_type": "code",
   "execution_count": 58,
   "metadata": {},
   "outputs": [],
   "source": [
    "cwd = os.getcwd()\n",
    "rootpath = cwd + '/notation/'\n",
    "notation_list = make_datapath_list(rootpath)"
   ]
  },
  {
   "cell_type": "code",
   "execution_count": 61,
   "metadata": {},
   "outputs": [
    {
     "data": {
      "application/vnd.jupyter.widget-view+json": {
       "model_id": "4a67c0924e9a48d99ba9eac2b1152930",
       "version_major": 2,
       "version_minor": 0
      },
      "text/plain": [
       "  0%|          | 0/1744 [00:00<?, ?it/s]"
      ]
     },
     "metadata": {},
     "output_type": "display_data"
    }
   ],
   "source": [
    "songs = []\n",
    "\n",
    "for notation in tqdm(notation_list):\n",
    "    with open(notation, 'r') as f:\n",
    "        text = f.read()\n",
    "        song = extract_song_data(text)\n",
    "        songs.append(song)"
   ]
  },
  {
   "cell_type": "code",
   "execution_count": 63,
   "metadata": {},
   "outputs": [
    {
     "name": "stdout",
     "output_type": "stream",
     "text": [
      "Example song: \n",
      "X: 0\n",
      "T: Angelus Ad Virginum\n",
      "Z: Public Domain\n",
      "L: 1/4\n",
      "M: 6/8\n",
      "Q: 1/4=120\n",
      "V: P1 name=\"melody\"\n",
      "V: P2 name=\"drone\"\n",
      "K: C\n",
      "[V: P1]  d B/ d d/ | c B/ A A/ | B G/ A/G/F/ | G3/ G3/ | d B/ d d/ | c B/ A A/ | B G/ A/G/F/ | G3/ G3/ | [M: 9/8]  A3/ c c/ B G/ | [M: 6/8]  A/B/A/ G3/ | [M: 9/8]  A3/ c c/ B G/ | A/G/A/ D3/ E/ ^F | [M: 6/8]  G F/ E D/ | G D/ G B/ | B/A/G/ A D/ | E F/ E/D/C/ | D3/ D3/|]\n",
      "[V: P2]  [G,D] [G,/D/] [G,3/D3/] | [G,D] [G,/D/] [G,3/D3/] | [G,3/D3/] [G,3/D3/] | [G,D] [G,/D/] [G,3/D3/] | [G,D] [G,/D/] [G,3/D3/] | [G,D] [G,/D/] [G,3/D3/] | [G,3/D3/] [G,3/D3/] | [G,D] [G,/D/] [G,3/D3/] | [M: 9/8]  [G,3/D3/] [G,3/D3/] [G,3/D3/] | [M: 6/8]  [G,D] [G,/D/] [G,3/D3/] | [M: 9/8]  [G,3/D3/] [G,D] [G,/D/] [G,D] [G,/D/] | [G,D] [G,/D/] [G,3/D3/] [G,3/D3/] | [M: 6/8]  [G,3/D3/] [G,3/D3/] | [G,D] [G,/D/] [G,3/D3/] | [G,D] [G,/D/] [G,3/D3/] | [G,D] [G,/D/] [G,3/D3/] | [G,D] [G,/D/] [G,3/D3/]|]\n"
     ]
    }
   ],
   "source": [
    "example_song = songs[0]\n",
    "print(\"Example song: \")\n",
    "print(example_song)"
   ]
  }
 ],
 "metadata": {
  "kernelspec": {
   "display_name": "DL",
   "language": "python",
   "name": "python3"
  },
  "language_info": {
   "codemirror_mode": {
    "name": "ipython",
    "version": 3
   },
   "file_extension": ".py",
   "mimetype": "text/x-python",
   "name": "python",
   "nbconvert_exporter": "python",
   "pygments_lexer": "ipython3",
   "version": "3.9.12"
  },
  "orig_nbformat": 4,
  "vscode": {
   "interpreter": {
    "hash": "fe294e6606534daba89c1dc14d4f5ef002211ec8430f3955bebe6e14ba2710b8"
   }
  }
 },
 "nbformat": 4,
 "nbformat_minor": 2
}
