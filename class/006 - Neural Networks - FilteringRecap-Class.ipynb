{
 "cells": [
  {
   "cell_type": "markdown",
   "metadata": {
    "id": "K9lFKFT-EZYf"
   },
   "source": [
    "# Image filtering"
   ]
  },
  {
   "cell_type": "code",
   "execution_count": null,
   "metadata": {
    "executionInfo": {
     "elapsed": 4,
     "status": "ok",
     "timestamp": 1649302168611,
     "user": {
      "displayName": "Christian Wallraven",
      "userId": "03337635927690584726"
     },
     "user_tz": -540
    },
    "id": "dzXcMHKyEZYj"
   },
   "outputs": [],
   "source": [
    "import matplotlib as mpl\n",
    "from mpl_toolkits.mplot3d import Axes3D\n",
    "import matplotlib.pyplot as plt\n",
    "import numpy as np\n",
    "from PIL import Image\n",
    "%matplotlib inline"
   ]
  },
  {
   "cell_type": "code",
   "execution_count": null,
   "metadata": {
    "colab": {
     "base_uri": "https://localhost:8080/",
     "height": 219
    },
    "executionInfo": {
     "elapsed": 6,
     "status": "error",
     "timestamp": 1649302171500,
     "user": {
      "displayName": "Christian Wallraven",
      "userId": "03337635927690584726"
     },
     "user_tz": -540
    },
    "id": "Potw-TkoEZYk",
    "outputId": "aad51fb8-7924-47fc-9ce5-145895e7215a"
   },
   "outputs": [],
   "source": [
    "img = Image.open('gisaengchung.png')\n",
    "# print some information about the image\n",
    "print(img.size)\n",
    "print(type(img))"
   ]
  },
  {
   "cell_type": "markdown",
   "metadata": {
    "id": "gr6N9nP_EZYl"
   },
   "source": [
    "So, now we know that our image has a certain size and is stored as a specific array of - in this case - three dimensions."
   ]
  },
  {
   "cell_type": "code",
   "execution_count": null,
   "metadata": {
    "id": "HrfV-LbkEZYl"
   },
   "outputs": [],
   "source": [
    "# let's make the image first a bit smaller\n",
    "scale_percent = 50 # percent of original size\n",
    "width = int(img.size[0] * scale_percent / 100)\n",
    "height = int(img.size[1] * scale_percent / 100)\n",
    "dim = (width, height)\n",
    "# resize image\n",
    "rimg = ..."
   ]
  },
  {
   "cell_type": "markdown",
   "metadata": {
    "id": "wWvL2sMGEZYm"
   },
   "source": [
    "Let's use ```matplotlib``` to show the picture"
   ]
  },
  {
   "cell_type": "code",
   "execution_count": null,
   "metadata": {
    "id": "uXIWeb-6EZYm",
    "outputId": "2a6bb156-3b06-4ec5-80b5-37625740fc82"
   },
   "outputs": [],
   "source": [
    "plt.figure(None, figsize=(12, 12))\n",
    "plt...\n",
    "plt.show()"
   ]
  },
  {
   "cell_type": "code",
   "execution_count": null,
   "metadata": {
    "id": "ypeHialhEZYo",
    "outputId": "58e85a35-e42f-477d-c0fe-0fda5672da87"
   },
   "outputs": [],
   "source": [
    "mrimg = np.array(...)\n",
    "plt.figure(None, figsize=(12, 12))\n",
    "plt.imshow(mrimg,cmap='gray')\n",
    "plt.show()"
   ]
  },
  {
   "cell_type": "markdown",
   "metadata": {
    "id": "--GbI839EZYo"
   },
   "source": [
    "Now, let's cut out a section of the image and let's display it as a grid of values. Most of the code below is to make sure that the plotting works fine and that we can add the pixel intensity values in a nice way to the plot. "
   ]
  },
  {
   "cell_type": "code",
   "execution_count": null,
   "metadata": {
    "id": "hmncCSztEZYo",
    "outputId": "8d3072ec-c8ca-45a6-800b-557a124f000e"
   },
   "outputs": [],
   "source": [
    "roi = mrimg[455:470,290:305]\n",
    "# the extent variable is important for ensuring the right\n",
    "# kind of plotting area!\n",
    "extent = (0, roi.shape[1], roi.shape[0], 0)\n",
    "plt.figure(None, figsize=(14, 6))\n",
    "plt.subplot(1,2,1)\n",
    "plt.imshow(roi,cmap='gray',extent=extent)\n",
    "ax = plt.gca()\n",
    "# this makes sure we have the correct grid lines\n",
    "major_ticks = np.arange(0, 16, 1)\n",
    "ax.set_xticks(major_ticks)\n",
    "ax.set_yticks(major_ticks)\n",
    "plt.grid(True)\n",
    "plt.subplot(1,2,2)\n",
    "plt.imshow(roi,cmap='gray',extent=extent)\n",
    "ax = plt.gca()\n",
    "major_ticks = np.arange(0, 16, 1)\n",
    "ax.set_xticks(major_ticks)\n",
    "ax.set_yticks(major_ticks)\n",
    "# plots pixel intensity values with text color depending on \n",
    "# the pixel value\n",
    "for i in range(0,15):\n",
    "    for j in range(0,15):\n",
    "        if roi[j,i]>127:\n",
    "            plt.text(i+0.1,j+0.6,str(roi[j,i]),color='black')\n",
    "        else:\n",
    "            plt.text(i+0.1,j+0.6,str(roi[j,i]),color='white')\n",
    "plt.grid(True)"
   ]
  },
  {
   "cell_type": "markdown",
   "metadata": {
    "id": "Ezr8Fh64EZYp"
   },
   "source": [
    "Next, let's plot the image function F(x,y) as a surface."
   ]
  },
  {
   "cell_type": "code",
   "execution_count": null,
   "metadata": {
    "id": "23P2spxlEZYp",
    "outputId": "1c602e7b-f136-437c-f8aa-9a1349552f41"
   },
   "outputs": [],
   "source": [
    "fig = plt.figure(None, figsize=(10, 10))\n",
    "ax = fig.gca(projection='3d')\n",
    "x = np.arange(0, mrimg.shape[1], 1)\n",
    "y = np.arange(0, mrimg.shape[0], 1)\n",
    "xx, yy = np.meshgrid(x, y)\n",
    "ax.plot_surface(yy,xx,mrimg[yy,xx],cmap='gray')\n",
    "plt.show()"
   ]
  },
  {
   "cell_type": "markdown",
   "metadata": {
    "id": "nN8T6kMBEZYq"
   },
   "source": [
    "Let's add something to our function"
   ]
  },
  {
   "cell_type": "code",
   "execution_count": null,
   "metadata": {
    "id": "i6exgZOeEZYq",
    "outputId": "26f8b954-b36b-4188-d215-13441ed2a1b9"
   },
   "outputs": [],
   "source": [
    "plt.figure(None, figsize=(12, 12))\n",
    "plt.imshow(mrimg+50,cmap='gray')\n",
    "plt.show()"
   ]
  },
  {
   "cell_type": "markdown",
   "metadata": {
    "id": "rU_-EtDbEZYq"
   },
   "source": [
    "That result cannot be correct - some parts of the image turn black, when actually the whole image should get brighter. This is because of clipping!"
   ]
  },
  {
   "cell_type": "code",
   "execution_count": null,
   "metadata": {
    "id": "RoVpMKldEZYq",
    "outputId": "3d006cad-2fd2-4d8b-9e9b-9e9cdea89951"
   },
   "outputs": [],
   "source": [
    "plt.figure(None, figsize=(12, 12))\n",
    "plt.imshow(np.clip(...+100,0,255),cmap='gray')\n",
    "plt.show()"
   ]
  },
  {
   "cell_type": "markdown",
   "metadata": {
    "id": "CCSyBQtUEZYr"
   },
   "source": [
    "Here's the inverse of the image"
   ]
  },
  {
   "cell_type": "code",
   "execution_count": null,
   "metadata": {
    "id": "BpQZ0_ATEZYr",
    "outputId": "78e51e89-4cb2-4812-92d6-1662a944ebec"
   },
   "outputs": [],
   "source": [
    "plt.figure(None, figsize=(12, 12))\n",
    "plt.imshow(255-mrimg,cmap='gray')\n",
    "plt.show()"
   ]
  },
  {
   "cell_type": "markdown",
   "metadata": {
    "id": "YMpFFydnEZYr"
   },
   "source": [
    "# Filtering\n",
    "\n",
    "Let's apply our simple retina-like filter to a signal"
   ]
  },
  {
   "cell_type": "code",
   "execution_count": null,
   "metadata": {
    "id": "kH_So8eMEZYr",
    "outputId": "10d52bc6-fcd2-4bb4-c0fc-afb942cb5c23"
   },
   "outputs": [],
   "source": [
    "signal = np.zeros((100,1))\n",
    "signal[10:13]=10;\n",
    "signal[50:53]=10;\n",
    "signal[70:90]=10;\n",
    "\n",
    "filtered_signal = np.zeros_like(signal)\n",
    "weights = np.array((-1.0,-1.0,1.0,1.0,1.0,-1.0,-1.0))\n",
    "plt.figure(None, figsize=(6, 6))\n",
    "plt.plot(weights,linewidth=5)\n",
    "for i in range(3,len(signal)-3):\n",
    "    filtered_signal[i]=...\n",
    "    \n",
    "plt.figure(None, figsize=(14, 6))\n",
    "plt.subplot(1,2,1)\n",
    "plt.plot(signal)\n",
    "plt.subplot(1,2,2)\n",
    "plt.plot(filtered_signal)\n",
    "plt.show()"
   ]
  },
  {
   "cell_type": "code",
   "execution_count": null,
   "metadata": {
    "id": "2Af953BxEZYs",
    "outputId": "9e5edfbb-2bba-4328-d0b3-3206883a38c8"
   },
   "outputs": [],
   "source": [
    "weights = np.array((-1,-1,1,1,1,-1,-1))\n",
    "weights = weights/np.linalg.norm(weights, ord=2, keepdims=True)\n",
    "for i in range(3,len(signal)-3):\n",
    "    filtered_signal[i]=...\n",
    "    \n",
    "plt.figure(None, figsize=(14, 6))\n",
    "plt.subplot(1,2,1)\n",
    "plt.plot(signal)\n",
    "plt.subplot(1,2,2)\n",
    "plt.plot(filtered_signal)\n",
    "plt.show()"
   ]
  },
  {
   "cell_type": "markdown",
   "metadata": {
    "id": "6Uj6JjsgEZYs"
   },
   "source": [
    "## Scanline\n",
    "Let's see what the image function says for our picture at one scanline."
   ]
  },
  {
   "cell_type": "code",
   "execution_count": null,
   "metadata": {
    "id": "RqmoBjyzEZYs",
    "outputId": "646f130d-4153-40f2-9281-970c2d1eb745"
   },
   "outputs": [],
   "source": [
    "cuty = 400\n",
    "plt.figure(None, figsize=(14, 6))\n",
    "grid = plt.GridSpec(1, 7, wspace=0.4, hspace=0.3)\n",
    "plt.subplot(grid[0, 0])\n",
    "plt.imshow(mrimg,cmap='gray')\n",
    "plt.plot((0,mrimg.shape[1]-1),(cuty,cuty))\n",
    "plt.subplot(grid[0, 1:4])\n",
    "oneline = mrimg[cuty,:]\n",
    "plt.plot(oneline)\n",
    "plt.show()"
   ]
  },
  {
   "cell_type": "markdown",
   "metadata": {
    "id": "q_Uk86VrEZYs"
   },
   "source": [
    "## Filtering one image line\n",
    "Let's apply our filter to the scanline in the image."
   ]
  },
  {
   "cell_type": "code",
   "execution_count": null,
   "metadata": {
    "id": "hN1uLBmwEZYs"
   },
   "outputs": [],
   "source": [
    "newoneline = np.zeros_like(oneline)\n",
    "weights = (-1,-1,1,1,1,-1,-1)\n",
    "for i in range(3,len(oneline)-3):\n",
    "    newoneline[i]=..."
   ]
  },
  {
   "cell_type": "code",
   "execution_count": null,
   "metadata": {
    "id": "HfeBW2qBEZYt",
    "outputId": "10bdfdf0-3778-406d-801c-3c7466907cf6"
   },
   "outputs": [],
   "source": [
    "plt.figure(None, figsize=(14, 6))\n",
    "grid = plt.GridSpec(1, 7, wspace=0.4, hspace=0.3)\n",
    "plt.subplot(grid[0, 0])\n",
    "plt.imshow(mrimg,cmap='gray')\n",
    "plt.plot((0,mrimg.shape[1]-1),(cuty,cuty))\n",
    "plt.subplot(grid[0, 1:4])\n",
    "plt.plot(oneline)\n",
    "plt.subplot(grid[0, 4:])\n",
    "plt.plot(newoneline)\n",
    "plt.show()"
   ]
  },
  {
   "cell_type": "markdown",
   "metadata": {
    "id": "88K0Ca4wEZYt"
   },
   "source": [
    "## Filtering in 2D\n",
    "Let's take the simple averaging filter and run it across the image."
   ]
  },
  {
   "cell_type": "code",
   "execution_count": null,
   "metadata": {
    "id": "j7BVG22sEZYt"
   },
   "outputs": [],
   "source": [
    "weights2d = [\n",
    "    (1,1,1),\n",
    "    (1,1,1),\n",
    "    (1,1,1)\n",
    "]\n",
    "weights2d = np.array(weights2d)\n",
    "weights2d = 1/np.sum(weights2d)*weights2d"
   ]
  },
  {
   "cell_type": "code",
   "execution_count": null,
   "metadata": {
    "id": "KQk1RHEhEZYt"
   },
   "outputs": [],
   "source": [
    "filteredmrimg = np.zeros_like(mrimg)\n",
    "for i in range(1,mrimg.shape[1]-1):\n",
    "    for j in range(1,mrimg.shape[0]-1):\n",
    "        filteredmrimg[j,i]=..."
   ]
  },
  {
   "cell_type": "code",
   "execution_count": null,
   "metadata": {
    "id": "TkrDrBnmEZYt",
    "outputId": "a113c719-8256-48e6-f9f5-903826de615c"
   },
   "outputs": [],
   "source": [
    "plt.figure(None, figsize=(14, 6))\n",
    "plt.subplot(1,2,1)\n",
    "plt.imshow(mrimg,cmap='gray')\n",
    "plt.subplot(1,2,2)\n",
    "plt.imshow(filteredmrimg,cmap='gray')\n",
    "plt.show()"
   ]
  },
  {
   "cell_type": "code",
   "execution_count": null,
   "metadata": {
    "id": "yExIXA1aEZYt"
   },
   "outputs": [],
   "source": [
    "# this function will filter an roi using a set of weights\n",
    "def filter_and_plot(weights,roi):\n",
    "    # these two lines are important as they ensure correct\n",
    "    # computations!\n",
    "    weights = weights.astype(float)\n",
    "    roi = roi.astype(float)\n",
    "    # this holds the end result\n",
    "    filtered = np.zeros_like(roi)\n",
    "    width = int((weights.shape[1]-1)/2)\n",
    "    height = int((weights.shape[0]-1)/2)\n",
    "    # do the filtering\n",
    "    for i in range(height,roi.shape[1]-height):\n",
    "        for j in range(width,roi.shape[0]-width):\n",
    "            filtered[j,i]=...\n",
    "    # plot the original, the filter, and the filtered image\n",
    "    plt.figure(None, figsize=(14, 6))\n",
    "    grid = plt.GridSpec(1, 7, wspace=0.4, hspace=0.3)\n",
    "    plt.subplot(grid[0, 0:3])\n",
    "    plt.imshow(roi,cmap='gray')\n",
    "    plt.subplot(grid[0, 3])\n",
    "    extent = (0, weights.shape[1], weights.shape[0], 0)\n",
    "    plt.imshow(weights,cmap='gray',extent=extent)\n",
    "    plt.axis('off')\n",
    "    if width<5:\n",
    "        for i in range(0,len(weights)):\n",
    "            for j in range(0,len(weights)):\n",
    "                if weights[i,j]>0.5*np.max(weights):\n",
    "                    plt.text(j+0.1,i+0.6,'{0:.2f}'.format(weights[i,j]),color='black')\n",
    "                else:\n",
    "                    plt.text(j+0.1,i+0.6,'{0:.2f}'.format(weights[i,j]),color='white')\n",
    "    plt.grid(True)\n",
    "    plt.subplot(grid[0, 4:])\n",
    "    plt.imshow(filtered,cmap='gray')\n",
    "    plt.show()\n",
    "    return(filtered)"
   ]
  },
  {
   "cell_type": "code",
   "execution_count": null,
   "metadata": {
    "id": "y_-iByyTEZYu"
   },
   "outputs": [],
   "source": [
    "faceroi = mrimg[190:250,314:374]"
   ]
  },
  {
   "cell_type": "markdown",
   "metadata": {
    "id": "5_ngKovuEZYu"
   },
   "source": [
    "## Different filters\n",
    "Let's try out a few simple filters."
   ]
  },
  {
   "cell_type": "code",
   "execution_count": null,
   "metadata": {
    "id": "TaHB7t4fEZYu",
    "outputId": "92621d5f-b0b4-44de-b4de-ebb8f8fb0f0a"
   },
   "outputs": [],
   "source": [
    "filter_id = np.array([\n",
    "    ...\n",
    "])\n",
    "filter_id = 1/np.sum(filter_id)*filter_id\n",
    "\n",
    "filter_and_plot(filter_id,faceroi)\n",
    "\n",
    "filter_left = np.array([\n",
    "    ...\n",
    "])\n",
    "filter_left = 1/np.sum(filter_left)*filter_left\n",
    "\n",
    "\n",
    "filter_and_plot(filter_left,faceroi)\n",
    "\n",
    "filter_blur = np.array([\n",
    "    ...\n",
    "])\n",
    "filter_blur = 1/np.sum(filter_blur)*filter_blur\n",
    "\n",
    "\n",
    "filter_and_plot(filter_blur,faceroi)\n",
    "\n",
    "\n",
    "filter_contrast = ...\n",
    "filter_contrast = 1/np.sum(filter_contrast)*filter_contrast\n",
    "\n",
    "\n",
    "fc = filter_and_plot(filter_contrast,faceroi)"
   ]
  },
  {
   "cell_type": "markdown",
   "metadata": {
    "id": "puoTXsDCEZYu"
   },
   "source": [
    "## Larger blur\n",
    "Let's use a bigger averaging filter and see its effects."
   ]
  },
  {
   "cell_type": "code",
   "execution_count": null,
   "metadata": {
    "id": "BhhQH-oBEZYu",
    "outputId": "21463eb3-076b-4685-87bd-95dc9c435508"
   },
   "outputs": [],
   "source": [
    "filter_blur_big = np.zeros((15,15))\n",
    "filter_blur_big[5:10,5:10]=1\n",
    "filter_blur_big = 1/np.sum(filter_blur_big)*filter_blur_big\n",
    "f=filter_and_plot(filter_blur_big,faceroi)"
   ]
  },
  {
   "cell_type": "markdown",
   "metadata": {
    "id": "Kevevpw2EZYu"
   },
   "source": [
    "## High-pass\n",
    "Here's the difference between the blurred and the original iamge. Per definition it contains the high frequencies."
   ]
  },
  {
   "cell_type": "code",
   "execution_count": null,
   "metadata": {
    "id": "1nD6r1LGEZYv",
    "outputId": "768e4b7b-fc24-4523-9a99-4736dda83dbe"
   },
   "outputs": [],
   "source": [
    "plt.figure(None, figsize=(14, 6))\n",
    "plt.subplot(1,2,1)\n",
    "plt.imshow(faceroi,cmap='gray')\n",
    "plt.subplot(1,2,2)\n",
    "diffimg = faceroi-f.astype(float)\n",
    "plt.imshow(diffimg,cmap='gray')\n",
    "plt.show()"
   ]
  },
  {
   "cell_type": "markdown",
   "metadata": {
    "id": "OTRkFlo7EZYv"
   },
   "source": [
    "## Gradual sharpening\n",
    "Let's add more and more of the difference image to the blurred image"
   ]
  },
  {
   "cell_type": "code",
   "execution_count": null,
   "metadata": {
    "id": "fLiUo1ggEZYv",
    "outputId": "268fbb46-3daf-4f46-c525-fa7f19ed5528"
   },
   "outputs": [],
   "source": [
    "plt.figure(None, figsize=(14, 6))\n",
    "plt.subplot(1,3,1)\n",
    "plt.imshow(f,cmap='gray')\n",
    "plt.subplot(1,3,2)\n",
    "f = f.astype(float)\n",
    "plt.imshow(f+0.3*diffimg,cmap='gray')\n",
    "plt.subplot(1,3,3)\n",
    "plt.imshow(f+0.6*diffimg,cmap='gray')\n",
    "plt.show()"
   ]
  },
  {
   "cell_type": "markdown",
   "metadata": {
    "id": "htdCTOIfEZYv"
   },
   "source": [
    "## Derivatives\n",
    "Now, let's derive our image function using the simple derivative approximation."
   ]
  },
  {
   "cell_type": "code",
   "execution_count": null,
   "metadata": {
    "id": "Qnwl20izEZYv",
    "outputId": "7a15f6b7-7091-4e7f-c0bf-fe8332659cd0"
   },
   "outputs": [],
   "source": [
    "filter_dx = np.array([\n",
    "    ...\n",
    "])\n",
    "fdx=filter_and_plot(filter_dx,faceroi)\n",
    "\n",
    "filter_dy = np.array([\n",
    "    ...\n",
    "])\n",
    "fdy=filter_and_plot(filter_dy,faceroi)\n",
    "\n",
    "plt.figure(None, figsize=(6, 6))\n",
    "hsv = np.zeros((fdx.shape[1],fdx.shape[0],3))\n",
    "hsv[...,1] = 255\n",
    "ang = np.arctan2(fdx,fdy)\n",
    "hsv[...,0] = ang*180/np.pi\n",
    "mag = np.sqrt(fdx*fdx+fdy*fdy)\n",
    "hsv[...,2] = (mag-np.min(mag))/(np.max(mag)-np.min(mag))*255\n",
    "plt.imshow(cv.cvtColor(np.uint8(hsv),cv.COLOR_HSV2RGB_FULL))\n",
    "plt.show()"
   ]
  },
  {
   "cell_type": "markdown",
   "metadata": {
    "id": "KIkk3mQ6EZYv"
   },
   "source": [
    "## Sobel filter\n",
    "Let's implement the simple Gaussian derivative filter approximation - the Sobel filters."
   ]
  },
  {
   "cell_type": "code",
   "execution_count": null,
   "metadata": {
    "id": "NiIhqFhqEZYw",
    "outputId": "d7993bbb-10db-4278-b99e-53f8ef34b9b8"
   },
   "outputs": [],
   "source": [
    "filter_sobelx = np.array([\n",
    "    ...\n",
    "])\n",
    "fsx=filter_and_plot(1/8*filter_sobelx,faceroi)\n",
    "\n",
    "filter_sobely = np.array([\n",
    "   ...\n",
    "])\n",
    "fsy=filter_and_plot(1/8*filter_sobely,faceroi)\n",
    "\n",
    "plt.figure(None, figsize=(6, 6))\n",
    "hsv = np.zeros((fsx.shape[1],fsx.shape[0],3))\n",
    "hsv[...,1] = 255\n",
    "ang = np.arctan2(fsx,fsy)\n",
    "hsv[...,0] = ang*180/np.pi\n",
    "mag = np.sqrt(fsx*fsx+fsy*fsy)\n",
    "hsv[...,2] = (mag-np.min(mag))/(np.max(mag)-np.min(mag))*255\n",
    "plt.imshow(cv.cvtColor(np.uint8(hsv),cv.COLOR_HSV2RGB_FULL))\n",
    "plt.show()"
   ]
  },
  {
   "cell_type": "markdown",
   "metadata": {
    "id": "HWHLYJifEZYw"
   },
   "source": [
    "## Filters as image descriptors\n",
    "\n",
    "As you can see, filters have the power to highlight certain types of information. Sobel filters, for example, are good (directed) edge detectors. Armed with this knowledge, it should be possible to describe the contents of an image by means of responses to so-called **banks of filters**. \n",
    "\n",
    "So, we take a large number of filters, pass them over the image (i.e., do convolution) and record their output at each pixel. The combined responses of the filter banks then make up a feature vector at this point. \n",
    "\n",
    "This feature vector can then be used for all sorts of image processing and image understanding tasks, including:\n",
    "1. image matching\n",
    "2. image retrieval\n",
    "3. image classification\n",
    "4. motion processing ...\n",
    "\n",
    "This type of idea underlies the many so-called local feature detectors and descriptors that were proposed in the 1990s and 2000s. \n",
    "\n",
    "The revolution came then with the further idea to not hand-craft these filters, but to **learn** the filters that may be helpful for a certain task from the **data directly**. This approach leads us to the famous **convolutional neural networks**."
   ]
  },
  {
   "cell_type": "code",
   "execution_count": null,
   "metadata": {},
   "outputs": [],
   "source": []
  },
  {
   "cell_type": "code",
   "execution_count": null,
   "metadata": {},
   "outputs": [],
   "source": []
  }
 ],
 "metadata": {
  "colab": {
   "name": "filtering.ipynb",
   "provenance": []
  },
  "kernelspec": {
   "display_name": "Python 3",
   "language": "python",
   "name": "python3"
  },
  "language_info": {
   "codemirror_mode": {
    "name": "ipython",
    "version": 3
   },
   "file_extension": ".py",
   "mimetype": "text/x-python",
   "name": "python",
   "nbconvert_exporter": "python",
   "pygments_lexer": "ipython3",
   "version": "3.8.10"
  }
 },
 "nbformat": 4,
 "nbformat_minor": 1
}
