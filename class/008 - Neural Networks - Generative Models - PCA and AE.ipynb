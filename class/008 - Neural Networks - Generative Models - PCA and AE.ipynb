{
 "cells": [
  {
   "cell_type": "code",
   "execution_count": 1,
   "metadata": {},
   "outputs": [],
   "source": [
    "%matplotlib inline\n",
    "from IPython import display\n",
    "import numpy as np\n",
    "import matplotlib.pyplot as plt\n",
    "import torch\n",
    "from torch import nn, optim\n",
    "from torch.utils.data import Dataset, DataLoader, TensorDataset\n",
    "import torchvision as tv\n",
    "from torchvision import transforms, utils\n",
    "import glob\n",
    "import pickle\n",
    "import time"
   ]
  },
  {
   "cell_type": "markdown",
   "metadata": {},
   "source": [
    "# PCA\n",
    "\n",
    "Let's first briefly implement the Principal Component Analysis to illustrate how this works.\n",
    "\n",
    "We are going to take the MNIST dataset again as our guinea pig as this will offer us some labels that we can use to illustrate the potential of PCA to form clusters in a lower-dimensional space.\n",
    "\n",
    "First, we are going to load MNIST via torchvision, and transform the data back to numpy arrays.\n",
    "\n",
    "For working with these for PCA we have to compress the 28x28 pixels images into vectors of 784 dimensions."
   ]
  },
  {
   "cell_type": "code",
   "execution_count": 2,
   "metadata": {},
   "outputs": [
    {
     "ename": "IndentationError",
     "evalue": "unexpected indent (<ipython-input-2-10d6a8e38910>, line 8)",
     "output_type": "error",
     "traceback": [
      "\u001b[1;36m  File \u001b[1;32m\"<ipython-input-2-10d6a8e38910>\"\u001b[1;36m, line \u001b[1;32m8\u001b[0m\n\u001b[1;33m    data[1].detach().cpu().numpy()\u001b[0m\n\u001b[1;37m    ^\u001b[0m\n\u001b[1;31mIndentationError\u001b[0m\u001b[1;31m:\u001b[0m unexpected indent\n"
     ]
    }
   ],
   "source": [
    "transform = transforms.Compose([transforms.ToTensor()])\n",
    "trainset = tv.datasets.MNIST(root='./',  train=True,download=True,transform=transform)\n",
    "dataloaderSorted = torch.utils.data.DataLoader(\n",
    "    trainset, batch_size=60000, shuffle=False, num_workers=4)\n",
    "\n",
    "for n_batch, data in enumerate(dataloaderSorted):\n",
    "    img, labels = data[0].detach().cpu().numpy(), data[1].detach().cpu().numpy()\n",
    "    \n",
    "    \n",
    "# get rid of 1D channel dimension\n",
    "img = np.squeeze(img)\n",
    "\n",
    "# reshape to desired vectors\n",
    "img = np.reshape(img,(60000,28*28))"
   ]
  },
  {
   "cell_type": "markdown",
   "metadata": {},
   "source": [
    "PCA requires input to be zero-centered and with a variance of 1. We are going to use sklearn for this"
   ]
  },
  {
   "cell_type": "code",
   "execution_count": 3,
   "metadata": {},
   "outputs": [
    {
     "name": "stdout",
     "output_type": "stream",
     "text": [
      "(60000, 784)\n"
     ]
    }
   ],
   "source": [
    "from sklearn.preprocessing import StandardScaler\n",
    "std_img = StandardScaler().fit_transform(img)\n",
    "print(std_img.shape)"
   ]
  },
  {
   "cell_type": "markdown",
   "metadata": {},
   "source": [
    "Next we have to get the covariance matrix of the data"
   ]
  },
  {
   "cell_type": "code",
   "execution_count": 4,
   "metadata": {},
   "outputs": [
    {
     "name": "stdout",
     "output_type": "stream",
     "text": [
      "The shape of variance matrix =  (784, 784)\n"
     ]
    }
   ],
   "source": [
    "#find the co-variance matrix which is : A^T * A\n",
    "sample_data = std_img\n",
    "\n",
    "# matrix multiplication using numpy\n",
    "covar_matrix = np.matmul(sample_data.T , sample_data)\n",
    "\n",
    "print ( \"The shape of variance matrix = \", covar_matrix.shape)"
   ]
  },
  {
   "cell_type": "markdown",
   "metadata": {},
   "source": [
    "Next, we do PCA on the covariance matrix. We are not going to be interested in the actual PCA matrices that are created here, but rather only will take the Eigenvectors and Eigenvalues of the matrix, which we know to be the solutions of interest."
   ]
  },
  {
   "cell_type": "code",
   "execution_count": 6,
   "metadata": {},
   "outputs": [
    {
     "name": "stdout",
     "output_type": "stream",
     "text": [
      "Shape of eigen vectors =  (784, 2)\n",
      "Updated shape of eigen vectors =  (2, 784)\n"
     ]
    }
   ],
   "source": [
    "# finding the top two eigen-values and corresponding eigen-vectors \n",
    "# for projecting onto a 2D space.\n",
    "# for this we use eigh\n",
    "\n",
    "from scipy.linalg import eigh \n",
    "\n",
    "# the parameter 'eigvals' is defined (sorted low to high value) \n",
    "# eigh function will return the eigen values in ascending order\n",
    "# this code generates only the top 2 (782 and 783) (index) eigenvalues.\n",
    "values, vectors = eigh(covar_matrix, eigvals=(782,783))\n",
    "\n",
    "print(\"Shape of eigen vectors = \",vectors.shape)\n",
    "# converting the eigen vectors into (2D) shape\n",
    "vectors = vectors.T\n",
    "\n",
    "print(\"Updated shape of eigen vectors = \",vectors.shape)\n",
    "# here the vectors[1] represent the eigen vector corresponding to 1st principal eigen vector\n",
    "# here the vectors[0] represent the eigen vector corresponding to 2nd principal eigen vector"
   ]
  },
  {
   "cell_type": "markdown",
   "metadata": {},
   "source": [
    "What do the eigenvectors look like? We can simply plot them as images like so:"
   ]
  },
  {
   "cell_type": "code",
   "execution_count": 11,
   "metadata": {},
   "outputs": [
    {
     "data": {
      "text/plain": [
       "<matplotlib.image.AxesImage at 0x7f5f6526f370>"
      ]
     },
     "execution_count": 11,
     "metadata": {},
     "output_type": "execute_result"
    },
    {
     "data": {
      "image/png": "[encoded data removed]",
      "text/plain": [
       "<Figure size 432x288 with 2 Axes>"
      ]
     },
     "metadata": {
      "needs_background": "light"
     },
     "output_type": "display_data"
    }
   ],
   "source": [
    "fig, (ax1, ax2) = plt.subplots(1, 2)\n",
    "ax1.imshow(vectors[0,:].reshape(28,28))\n",
    "ax2.imshow(vectors[1,:].reshape(28,28))"
   ]
  },
  {
   "cell_type": "markdown",
   "metadata": {},
   "source": [
    "Next, we need to create the projections of our data in the new coordinate system defined by the two principal eigenvectors.\n",
    "\n",
    "For this, we simply do the projection of Eigenvectors onto the transpose of the covariance matrix:"
   ]
  },
  {
   "cell_type": "code",
   "execution_count": null,
   "metadata": {},
   "outputs": [],
   "source": [
    "# projecting the original data sample on the plane \n",
    "# formed by two principal eigen vectors by vector-vector multiplication.\n",
    "\n",
    "new_coordinates = np.matmul(vectors, sample_data.T)\n",
    "\n",
    "print (\"projected data points' shape \", vectors.shape, \"X\", sample_data.T.shape,\" = \", new_coordinates.shape)"
   ]
  },
  {
   "cell_type": "markdown",
   "metadata": {},
   "source": [
    "Now that we have all the data, we are going through it, digit-label by digit-label to create a 2D representation of the embedding of our data.\n",
    "\n",
    "Note that we will need to do this by asking about the indices of each digit class, as the MNIST training set does not have equal numbers of examples in each digit class."
   ]
  },
  {
   "cell_type": "code",
   "execution_count": null,
   "metadata": {},
   "outputs": [],
   "source": [
    "plt.figure()\n",
    "plt.hist(labels)\n",
    "plt.show()"
   ]
  },
  {
   "cell_type": "code",
   "execution_count": null,
   "metadata": {},
   "outputs": [],
   "source": [
    "plt.figure(figsize=(10,10))\n",
    "\n",
    "\n",
    "# go through each label\n",
    "for l in np.arange(10):\n",
    "    # find the indices\n",
    "    inds = labels==l\n",
    "    # select the correct vectors\n",
    "    tmp = new_coordinates[:,inds]\n",
    "    \n",
    "    # and scatter giving the label as the digit string\n",
    "    plt.scatter(tmp[0,:],tmp[1,:],label=str(l))\n",
    "\n",
    "plt.legend()\n",
    "plt.show()"
   ]
  },
  {
   "cell_type": "markdown",
   "metadata": {},
   "source": [
    "Although we see some separation of digits, the individual clusters are not yet well defined. \n",
    "\n",
    "So, next, let's take a look at the non-linear dimensionality embedding methods offered via Autoencoders."
   ]
  },
  {
   "cell_type": "markdown",
   "metadata": {},
   "source": [
    "# Autoencoders\n",
    "\n",
    "Autoencoders constitute perhaps the simplest class of generative models. \n",
    "\n",
    "To recap, in a generative model we learn the joint probability distribution of the input data and labels simultaneously, i.e. $P(x,y)$. This can be converted to $P(y|x)$ for classification via Bayes' rule, of course. Importantly, however, we can use $P(x,y)$ to create new samples $(x,y)$ that have highlikelihood.\n",
    "\n",
    "So, how do we go about this from scratch? \n",
    "\n",
    "We have already seen encoders in our discussions of CNNs and fully-connected models for classification. They are simply taking data - let's say in image - and mapping it via a series of filters/feature detectors down to a (very) low dimensional label space (the output neurons).\n",
    "\n",
    "We have also touched already on the idea of bottlenecks in our discussion of 1x1 convolutional filters for CNNs - the idea here was that we force the information through a lower-dimensional gate by weighted downsampling, followed by upsampling again.\n",
    "\n",
    "Autoencoders are the natural extension of this idea with a low-dimensional bottleneck - the so-called latent space - inside an architecture that does: **Encoder (down-scaling) - bottleneck (latent space) - Decoder (up-scaling)**.\n",
    "\n",
    "So, let's try this first with standard fully-connected layers:"
   ]
  },
  {
   "cell_type": "markdown",
   "metadata": {},
   "source": [
    "## Autoencoders with fully-connected layers:\n",
    "\n",
    "We need an Encoder - Bottleneck - Decoder architecture using fully-connected layers."
   ]
  },
  {
   "cell_type": "code",
   "execution_count": null,
   "metadata": {},
   "outputs": [],
   "source": [
    "class AE_FC(nn.Module):\n",
    "\n",
    "    def __init__(self, latent_dim):\n",
    "        super(AE_FC,self).__init__()\n",
    "        \n",
    "        self.encoder = nn.Sequential(\n",
    "            nn.Linear(28*28, latent_dim),\n",
    "            nn.ReLU(True))\n",
    "\n",
    "        self.decoder = nn.Sequential( \n",
    "            nn.Linear(latent_dim, 28*28),\n",
    "            nn.Sigmoid())\n",
    "\n",
    "    def forward(self,x):\n",
    "        x = self.encoder(x)\n",
    "        x = self.decoder(x)\n",
    "        return x\n",
    "\n",
    "    # we define this function so we can access only the\n",
    "    # latent space of the model\n",
    "    def getlatent(self,x):\n",
    "        x = self.encoder(x)\n",
    "        return x"
   ]
  },
  {
   "cell_type": "markdown",
   "metadata": {},
   "source": [
    "## Autoencoders on MNIST\n",
    "\n",
    "We are going to apply the autoencoders on the MNIST. The reason for this is that MNIST has 10 different classes of digits, which will allow us later to try to visualize what is going on in that latent (bottleneck) space."
   ]
  },
  {
   "cell_type": "code",
   "execution_count": null,
   "metadata": {},
   "outputs": [],
   "source": [
    "transform = transforms.Compose([transforms.ToTensor()])\n",
    "trainset = tv.datasets.MNIST(root='./',  train=True,download=True, transform=transform)\n",
    "dataloader = torch.utils.data.DataLoader(trainset, batch_size=128, shuffle=True, num_workers=1)\n",
    "testset = tv.datasets.MNIST(root='./', train=False, download=True, transform=transform)\n",
    "testloader = torch.utils.data.DataLoader(testset, batch_size=4, shuffle=True, num_workers=1)"
   ]
  },
  {
   "cell_type": "markdown",
   "metadata": {},
   "source": [
    "This is a quick helper function to combine 20 images of original and predicted pictures into one picture for display:"
   ]
  },
  {
   "cell_type": "code",
   "execution_count": null,
   "metadata": {},
   "outputs": [],
   "source": [
    "def convertBatchToCombined(inp,out):\n",
    "    # this should be extended to arbitrary batch length\n",
    "    # assuming this to be 10 here\n",
    "    combinedUp = np.zeros((28,28*10))\n",
    "    combinedDown = np.zeros((28,28*10))\n",
    "    for b in np.arange(10):\n",
    "        combinedUp[:,b*28:b*28+28]=np.reshape(inp[:,b],(28,28))\n",
    "        combinedDown[:,b*28:b*28+28]=np.reshape(out[:,b],(28,28))\n",
    "    tmp = np.vstack([combinedUp,combinedDown])\n",
    "    tmp = (tmp-tmp.min())/(tmp.max()-tmp.min())*255.\n",
    "    return(np.repeat(tmp[:,:,np.newaxis], 3, axis=2))\n"
   ]
  },
  {
   "cell_type": "markdown",
   "metadata": {},
   "source": [
    "our friendly real-time update function:"
   ]
  },
  {
   "cell_type": "code",
   "execution_count": null,
   "metadata": {},
   "outputs": [],
   "source": [
    "import plotly.graph_objs as go\n",
    "from plotly.subplots import make_subplots\n",
    "from ipywidgets import interact\n",
    "fig = make_subplots(rows=1, cols=1)\n",
    "fig.append_trace(go.Image(z=np.zeros((28,28*10,3))),row=1,col=1)\n",
    "fig = go.FigureWidget(fig)\n",
    "fig.update_xaxes(showticklabels=False)\n",
    "fig.update_yaxes(showticklabels=False)\n",
    "fig.update_layout(\n",
    "    autosize=False,\n",
    "    width=1000,\n",
    "    height=800,\n",
    ")\n",
    "fig"
   ]
  },
  {
   "cell_type": "markdown",
   "metadata": {},
   "source": [
    "Let's try this autoencoder with a latent dimensionality of d=10:"
   ]
  },
  {
   "cell_type": "code",
   "execution_count": null,
   "metadata": {},
   "outputs": [],
   "source": [
    "num_epochs = 5\n",
    "model = AE_FC(10)\n",
    "\n",
    "# put to device\n",
    "device = (torch.device('cuda') if torch.cuda.is_available()\n",
    "    else torch.device('cpu'))\n",
    "\n",
    "model.to(device=device)\n",
    "\n",
    "# use MSE loss\n",
    "distance = nn.MSELoss()\n",
    "\n",
    "# standard ADAM\n",
    "optimizer = torch.optim.Adam(model.parameters(), lr=0.001)\n",
    "\n",
    "# pre-load the test pictures for visualization of online prediction\n",
    "timg, tlabels = list(dataloader)[0]\n",
    "timg = timg.to(device)\n",
    "timg = timg.view(timg.size(0), -1)\n",
    "\n",
    "# training loop\n",
    "for epoch in range(num_epochs):\n",
    "    for n_batch, data in enumerate(dataloader):\n",
    "        # we don't need the labels here\n",
    "        img, labels = data[0].to(device), data[1].to(device)\n",
    "        \n",
    "        # flatten\n",
    "        img = img.view(img.size(0), -1)\n",
    "        # ===================forward=====================\n",
    "        output = model(img)\n",
    "        loss_mse = distance(output, img)\n",
    "        # ===================backward====================\n",
    "        optimizer.zero_grad()\n",
    "        loss_mse.backward()\n",
    "        optimizer.step()\n",
    "        \n",
    "        # visualize output\n",
    "        if (n_batch) % 50 == 0:\n",
    "            with torch.no_grad():\n",
    "                output = model(timg)\n",
    "                inp = timg[0:10, :].detach().cpu()\n",
    "                out = output[0:10, :].detach().cpu()\n",
    "\n",
    "                combined = convertBatchToCombined(inp.permute(1,0),out.permute(1,0))\n",
    "                \n",
    "                with fig.batch_update():\n",
    "                    fig.data[0]['z'] = combined\n",
    "                    fig.update_layout(\n",
    "                        title={\n",
    "                            'text':'epoch {0:} batch {1:} L={2: .3f}'.format(\n",
    "                                epoch+1,n_batch,loss_mse.item()),\n",
    "                            'xanchor':'center',\n",
    "                            'x':0.5\n",
    "                        })\n",
    "    # ===================log========================\n",
    "    print('epoch [{}/{}], loss:{:.4f}'.format(epoch+1, num_epochs, loss_mse.item()))"
   ]
  },
  {
   "cell_type": "markdown",
   "metadata": {},
   "source": [
    "As we can see, the reconstructions of the digits start out noisy and then converge to a somewhat blurred representation. Our autoencoder is a bit \"shallow\", however, with only one hidden layer that does the heavy lifting of discovering features.\n",
    "\n",
    "How about going \"deeper\"?"
   ]
  },
  {
   "cell_type": "code",
   "execution_count": null,
   "metadata": {},
   "outputs": [],
   "source": [
    "class AE_FC_deep(nn.Module):\n",
    "\n",
    "    def __init__(self, latent_dim):\n",
    "        super(AE_FC_deep,self).__init__()\n",
    "        \n",
    "        self.encoder = nn.Sequential(\n",
    "            \n",
    "            nn.Linear(28*28, 512),\n",
    "            nn.ReLU(True),\n",
    "            nn.Linear(512,128),\n",
    "            nn.ReLU(True),\n",
    "            nn.Linear(128,latent_dim),\n",
    "            nn.ReLU(True))\n",
    "\n",
    "        self.decoder = nn.Sequential( \n",
    "            nn.Linear(latent_dim, 128),\n",
    "            nn.ReLU(True),\n",
    "            nn.Linear(128,512),\n",
    "            nn.ReLU(True),\n",
    "            nn.Linear(512, 28*28),\n",
    "            nn.Sigmoid())\n",
    "\n",
    "    def forward(self,x):\n",
    "        x = self.encoder(x)\n",
    "        x = self.decoder(x)\n",
    "        return x\n",
    "\n",
    "    # we define this function so we can access only the\n",
    "    # latent space of the model\n",
    "    def getlatent(self,x):\n",
    "        x = self.encoder(x)\n",
    "        return x"
   ]
  },
  {
   "cell_type": "code",
   "execution_count": null,
   "metadata": {},
   "outputs": [],
   "source": [
    "num_epochs = 5\n",
    "model = AE_FC_deep(10)\n",
    "\n",
    "# put to device\n",
    "device = (torch.device('cuda') if torch.cuda.is_available()\n",
    "    else torch.device('cpu'))\n",
    "\n",
    "model.to(device=device)\n",
    "\n",
    "# use MSE loss\n",
    "distance = nn.MSELoss()\n",
    "\n",
    "# standard ADAM\n",
    "optimizer = torch.optim.Adam(model.parameters(), lr=0.001)\n",
    "\n",
    "# pre-load the test pictures for visualization of online prediction\n",
    "timg, tlabels = list(dataloader)[0]\n",
    "timg = timg.to(device)\n",
    "timg = timg.view(timg.size(0), -1)\n",
    "\n",
    "# training loop\n",
    "for epoch in range(num_epochs):\n",
    "    for n_batch, data in enumerate(dataloader):\n",
    "        # we don't need the labels here\n",
    "        img, labels = data[0].to(device), data[1].to(device)\n",
    "        \n",
    "        # flatten\n",
    "        img = img.view(img.size(0), -1)\n",
    "        # ===================forward=====================\n",
    "        output = model(img)\n",
    "        loss_mse = distance(output, img)\n",
    "        # ===================backward====================\n",
    "        optimizer.zero_grad()\n",
    "        loss_mse.backward()\n",
    "        optimizer.step()\n",
    "        \n",
    "        # visualize output\n",
    "        if (n_batch) % 50 == 0:\n",
    "            with torch.no_grad():\n",
    "                output = model(timg)\n",
    "                inp = timg[0:10, :].detach().cpu()\n",
    "                out = output[0:10, :].detach().cpu()\n",
    "\n",
    "                combined = convertBatchToCombined(inp.permute(1,0),out.permute(1,0))\n",
    "                \n",
    "                with fig.batch_update():\n",
    "                    fig.data[0]['z'] = combined\n",
    "                    fig.update_layout(\n",
    "                        title={\n",
    "                            'text':'epoch {0:} batch {1:} L={2: .3f}'.format(\n",
    "                                epoch+1,n_batch,loss_mse.item()),\n",
    "                            'xanchor':'center',\n",
    "                            'x':0.5\n",
    "                        })\n",
    "    # ===================log========================\n",
    "    print('epoch [{}/{}], loss:{:.4f}'.format(epoch+1, num_epochs, loss_mse.item()))"
   ]
  },
  {
   "cell_type": "markdown",
   "metadata": {},
   "source": [
    "And that works better, resulting in sharper, more well-defined reconstructions of the digits. \n",
    "\n",
    "We were talking about the latent space, however - how can we visualize this nicely? \n",
    "\n",
    "How about we force the latent, bottleneck layer to be two-dimensional, so that we can visualize all digits in this two-dimensional space?"
   ]
  },
  {
   "cell_type": "code",
   "execution_count": null,
   "metadata": {},
   "outputs": [],
   "source": [
    "num_epochs = 5\n",
    "\n",
    "# let's make things two-dimensional!\n",
    "model = AE_FC_deep(2)\n",
    "\n",
    "# put to device\n",
    "device = (torch.device('cuda') if torch.cuda.is_available()\n",
    "    else torch.device('cpu'))\n",
    "\n",
    "model.to(device=device)\n",
    "\n",
    "# use MSE loss\n",
    "distance = nn.MSELoss()\n",
    "\n",
    "# standard ADAM\n",
    "optimizer = torch.optim.Adam(model.parameters(), lr=0.0001)\n",
    "\n",
    "# pre-load the test pictures for visualization of online prediction\n",
    "timg, tlabels = list(dataloader)[0]\n",
    "timg = timg.to(device)\n",
    "timg = timg.view(timg.size(0), -1)\n",
    "\n",
    "# training loop\n",
    "for epoch in range(num_epochs):\n",
    "    for n_batch, data in enumerate(dataloader):\n",
    "        # we don't need the labels here\n",
    "        img, labels = data[0].to(device), data[1].to(device)\n",
    "        \n",
    "        # flatten\n",
    "        img = img.view(img.size(0), -1)\n",
    "        # ===================forward=====================\n",
    "        output = model(img)\n",
    "        loss_mse = distance(output, img)\n",
    "        # ===================backward====================\n",
    "        optimizer.zero_grad()\n",
    "        loss_mse.backward()\n",
    "        optimizer.step()\n",
    "        \n",
    "        # visualize output\n",
    "        if (n_batch) % 50 == 0:\n",
    "            with torch.no_grad():\n",
    "                output = model(timg)\n",
    "                inp = timg[0:10, :].detach().cpu()\n",
    "                out = output[0:10, :].detach().cpu()\n",
    "\n",
    "                combined = convertBatchToCombined(inp.permute(1,0),out.permute(1,0))\n",
    "                \n",
    "                with fig.batch_update():\n",
    "                    fig.data[0]['z'] = combined\n",
    "                    fig.update_layout(\n",
    "                        title={\n",
    "                            'text':'epoch {0:} batch {1:} L={2: .3f}'.format(\n",
    "                                epoch+1,n_batch,loss_mse.item()),\n",
    "                            'xanchor':'center',\n",
    "                            'x':0.5\n",
    "                        })\n",
    "    # ===================log========================\n",
    "    print('epoch [{}/{}], loss:{:.4f}'.format(epoch+1, num_epochs, loss_mse.item()))"
   ]
  },
  {
   "cell_type": "markdown",
   "metadata": {},
   "source": [
    "Now that we have a two-dimensional latent space, let's poll it with our full dataset of 60000 digits to see what it looks like.\n",
    "\n",
    "For this, we first create a non-shuffled `DataLoader` that simply loads **all** MNIST training digits into memory - including the labels."
   ]
  },
  {
   "cell_type": "code",
   "execution_count": null,
   "metadata": {},
   "outputs": [],
   "source": [
    "dataloaderSorted = torch.utils.data.DataLoader(trainset, batch_size=60000, shuffle=False, num_workers=4)\n",
    "\n",
    "for n_batch, data in enumerate(dataloaderSorted):\n",
    "    img, labels = data[0].to(device), data[1].detach().cpu().numpy()"
   ]
  },
  {
   "cell_type": "markdown",
   "metadata": {},
   "source": [
    "Now that we have all the data, we are going through it, digit-label by digit-label to create a 2D representation of the embedding of our data.\n",
    "\n",
    "Note that we will need to do this by asking about the indices of each digit class, as the MNIST training set does not have equal numbers of examples in each digit class."
   ]
  },
  {
   "cell_type": "code",
   "execution_count": null,
   "metadata": {},
   "outputs": [],
   "source": [
    "plt.figure()\n",
    "plt.hist(labels)\n",
    "plt.show()"
   ]
  },
  {
   "cell_type": "code",
   "execution_count": null,
   "metadata": {},
   "outputs": [],
   "source": [
    "plt.figure(figsize=(10,10))\n",
    "\n",
    "# don't forget to do this\n",
    "model.eval()\n",
    "\n",
    "# go through each label\n",
    "for l in np.arange(10):\n",
    "    # find the indices\n",
    "    inds = labels==l\n",
    "    # select the images\n",
    "    tmp = img[inds,:,:,:]\n",
    "    # flatten them\n",
    "    tmp = tmp.view(tmp.size(0), -1)\n",
    "    # put them through the model to get their 2D latent\n",
    "    # space representation\n",
    "    output = model.getlatent(tmp).detach().cpu().numpy()\n",
    "    \n",
    "    # and scatter giving the label as the digit string\n",
    "    plt.scatter(output[:,0],output[:,1],label=str(l))\n",
    "\n",
    "plt.legend()\n",
    "plt.show()"
   ]
  },
  {
   "cell_type": "markdown",
   "metadata": {},
   "source": [
    "As we can see that worked out \"fine\" to some degree - we do not see clusters of digits, but rather \"rays\" of digits, with some degree of clustering."
   ]
  }
 ],
 "metadata": {
  "kernelspec": {
   "display_name": "Python 3",
   "language": "python",
   "name": "python3"
  },
  "language_info": {
   "codemirror_mode": {
    "name": "ipython",
    "version": 3
   },
   "file_extension": ".py",
   "mimetype": "text/x-python",
   "name": "python",
   "nbconvert_exporter": "python",
   "pygments_lexer": "ipython3",
   "version": "3.7.7"
  }
 },
 "nbformat": 4,
 "nbformat_minor": 4
}
