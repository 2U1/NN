{
 "cells": [
  {
   "cell_type": "markdown",
   "metadata": {},
   "source": [
    "# Assignment3"
   ]
  },
  {
   "cell_type": "code",
   "execution_count": 3,
   "metadata": {},
   "outputs": [],
   "source": [
    "import numpy as np\n",
    "from scipy.signal import convolve2d, fftconvolve"
   ]
  },
  {
   "cell_type": "code",
   "execution_count": null,
   "metadata": {},
   "outputs": [],
   "source": [
    "def makeData (N=256, numimg=2, M=8, numfilt=3, seed=42):\n",
    "    np.random.seed(seed)\n",
    "    I = np.random.rand(N, N, numimg)\n",
    "    F = np.random.rand(M, M, numfilt)\n",
    "    O = np.zeros((N, N, numimg, numfilt))\n",
    "\n",
    "    return I, F, O"
   ]
  },
  {
   "cell_type": "code",
   "execution_count": null,
   "metadata": {},
   "outputs": [],
   "source": [
    "def c2d(I, F, O):\n",
    "    for im, img in enumerate(I):\n",
    "        for fi, fil in enumerate(F):\n",
    "            O[:, :, im, fi] = convolve2d(img, fil, mode='same', boundary='fill', fillvalue=0)"
   ]
  },
  {
   "cell_type": "code",
   "execution_count": null,
   "metadata": {},
   "outputs": [],
   "source": [
    "def c2dfft(I, F, O):\n",
    "    for im, img in enumerate(I):\n",
    "        for fi, fil in enumerate(F):\n",
    "            O[:, :, im, fi] = fftconvolve(img, fil, mode='same')"
   ]
  }
 ],
 "metadata": {
  "kernelspec": {
   "display_name": "Python 3.9.12 ('DL')",
   "language": "python",
   "name": "python3"
  },
  "language_info": {
   "codemirror_mode": {
    "name": "ipython",
    "version": 3
   },
   "file_extension": ".py",
   "mimetype": "text/x-python",
   "name": "python",
   "nbconvert_exporter": "python",
   "pygments_lexer": "ipython3",
   "version": "3.9.12"
  },
  "orig_nbformat": 4,
  "vscode": {
   "interpreter": {
    "hash": "fe294e6606534daba89c1dc14d4f5ef002211ec8430f3955bebe6e14ba2710b8"
   }
  }
 },
 "nbformat": 4,
 "nbformat_minor": 2
}
