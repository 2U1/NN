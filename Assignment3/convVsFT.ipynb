{
 "cells": [
  {
   "cell_type": "markdown",
   "metadata": {},
   "source": [
    "# Assignment3"
   ]
  },
  {
   "cell_type": "code",
   "execution_count": 1,
   "metadata": {},
   "outputs": [],
   "source": [
    "import numpy as np\n",
    "from scipy.signal import convolve2d, fftconvolve\n",
    "from datetime import datetime\n",
    "import random"
   ]
  },
  {
   "cell_type": "markdown",
   "metadata": {},
   "source": [
    "## Experiment1"
   ]
  },
  {
   "cell_type": "code",
   "execution_count": 2,
   "metadata": {},
   "outputs": [],
   "source": [
    "def makeData (N=256, numimg=2, M=8, numfilt=3, seed=42):\n",
    "    np.random.seed(seed)\n",
    "    I = np.random.rand(N, N, numimg)\n",
    "    F = np.random.rand(M, M, numfilt)\n",
    "    O = np.zeros((N, N, numimg, numfilt))\n",
    "\n",
    "    return I, F, O"
   ]
  },
  {
   "cell_type": "code",
   "execution_count": 3,
   "metadata": {},
   "outputs": [],
   "source": [
    "def c2d(I, F, O):\n",
    "    img_len = I.shape[2]\n",
    "    filter_len = F.shape[2]\n",
    "    for im in range(img_len):\n",
    "        for fi in range(filter_len):\n",
    "            O[:, :, im, fi] = convolve2d(I[:,:,im], F[:,:,fi], mode='same', boundary='fill', fillvalue=0)"
   ]
  },
  {
   "cell_type": "code",
   "execution_count": 4,
   "metadata": {},
   "outputs": [],
   "source": [
    "def c2dfft(I, F, O):\n",
    "    img_len = I.shape[2]\n",
    "    filter_len = F.shape[2]\n",
    "    for im in range(img_len):\n",
    "        for fi in range(filter_len):\n",
    "            O[:, :, im, fi] = fftconvolve(I[:,:,im], F[:,:,fi], mode='same')"
   ]
  },
  {
   "cell_type": "code",
   "execution_count": 5,
   "metadata": {},
   "outputs": [],
   "source": [
    "def experiment(img_size, filter_size):\n",
    "    random.seed(119)\n",
    "    random_seed = random.sample(range(200), k=20)\n",
    "    \n",
    "    args = {}\n",
    "    \n",
    "    for f in filter_size:\n",
    "        temp = []    \n",
    "        for seed in random_seed:\n",
    "            I, F, O = makeData(img_size, 2, f, 3, seed)\n",
    "            temp.append((I, F, O))\n",
    "        args[f] = temp\n",
    "\n",
    "    for f in filter_size:\n",
    "        results = []\n",
    "        start1 = datetime.now()\n",
    "        for arg in args[f]:\n",
    "            I_temp, F_temp, O_temp = arg\n",
    "            c2d(I_temp, F_temp, O_temp)\n",
    "        end1 = datetime.now()\n",
    "        results.append((end1 - start1))\n",
    "\n",
    "        start2 = datetime.now()\n",
    "        for arg in args[f]:\n",
    "            I_temp, F_temp, O_temp = arg\n",
    "            c2dfft(I_temp, F_temp, O_temp)\n",
    "        end2 = datetime.now()\n",
    "        results.append((end2 - start2))\n",
    "\n",
    "        print(\"Filter size: {}, convolution: {}, fourier: {} \".format(f, results[0], results[1]))"
   ]
  },
  {
   "cell_type": "code",
   "execution_count": 6,
   "metadata": {},
   "outputs": [],
   "source": [
    "img_size = 512\n",
    "filter_size = [2, 3, 4, 5, 6, 7, 8, 9, 10]"
   ]
  },
  {
   "cell_type": "code",
   "execution_count": 7,
   "metadata": {},
   "outputs": [
    {
     "name": "stdout",
     "output_type": "stream",
     "text": [
      "Filter size: 2, convolution: 0:00:00.394103, fourier: 0:00:00.943399 \n",
      "Filter size: 3, convolution: 0:00:00.655023, fourier: 0:00:00.956753 \n",
      "Filter size: 4, convolution: 0:00:00.962806, fourier: 0:00:00.920881 \n",
      "Filter size: 5, convolution: 0:00:01.300775, fourier: 0:00:00.918964 \n",
      "Filter size: 6, convolution: 0:00:01.718169, fourier: 0:00:00.917013 \n",
      "Filter size: 7, convolution: 0:00:02.306034, fourier: 0:00:00.878574 \n",
      "Filter size: 8, convolution: 0:00:02.844407, fourier: 0:00:00.866920 \n",
      "Filter size: 9, convolution: 0:00:03.461528, fourier: 0:00:00.863109 \n",
      "Filter size: 10, convolution: 0:00:04.162059, fourier: 0:00:00.880588 \n"
     ]
    }
   ],
   "source": [
    "experiment(img_size, filter_size)"
   ]
  },
  {
   "cell_type": "markdown",
   "metadata": {},
   "source": [
    "Fourier transformation becomes faster when the filter size is larger than 4. Until then, convolution is slightly faster.<br>\n",
    "If the filter becomes larger and larger then the time for convolution grows exponentially."
   ]
  },
  {
   "cell_type": "markdown",
   "metadata": {},
   "source": [
    "## Experiment2"
   ]
  },
  {
   "cell_type": "code",
   "execution_count": 8,
   "metadata": {},
   "outputs": [],
   "source": [
    "def makeData1 (N=256, numimg=2, M=8, numfilt=3, seed=42):\n",
    "    np.random.seed(seed)\n",
    "    I = np.random.rand(N, N, numimg)\n",
    "    F = np.random.rand(M, M, numfilt)\n",
    "    O = np.zeros((N, N, numimg, numfilt))\n",
    "\n",
    "    return I, F, O"
   ]
  },
  {
   "cell_type": "code",
   "execution_count": 9,
   "metadata": {},
   "outputs": [],
   "source": [
    "def makeData2 (N=256, numimg=2, M=8, numfilt=3, seed=42):\n",
    "    np.random.seed(seed)\n",
    "    I = np.random.rand(numimg, N, N)\n",
    "    F = np.random.rand(numfilt, M, M)\n",
    "    O = np.zeros((N, N, numimg, numfilt))\n",
    "\n",
    "    return I, F, O"
   ]
  },
  {
   "cell_type": "code",
   "execution_count": 10,
   "metadata": {},
   "outputs": [],
   "source": [
    "def c2d1(I, F, O):\n",
    "    img_len = I.shape[2]\n",
    "    filter_len = F.shape[2]\n",
    "    for im in range(img_len):\n",
    "        for fi in range(filter_len):\n",
    "            O[:, :, im, fi] = convolve2d(I[:,:,im], F[:,:,fi], mode='same', boundary='fill', fillvalue=0)"
   ]
  },
  {
   "cell_type": "code",
   "execution_count": 11,
   "metadata": {},
   "outputs": [],
   "source": [
    "def c2d2(I, F, O):\n",
    "    for im, img in enumerate(I):\n",
    "        for fi, fil in enumerate(F):\n",
    "            O[:, :, im, fi] = convolve2d(img, fil, mode='same', boundary='fill', fillvalue=0)"
   ]
  },
  {
   "cell_type": "code",
   "execution_count": 12,
   "metadata": {},
   "outputs": [],
   "source": [
    "def c2dfft1(I, F, O):\n",
    "    img_len = I.shape[2]\n",
    "    filter_len = F.shape[2]\n",
    "    for im in range(img_len):\n",
    "        for fi in range(filter_len):\n",
    "            O[:, :, im, fi] = fftconvolve(I[:,:,im], F[:,:,fi], mode='same')"
   ]
  },
  {
   "cell_type": "code",
   "execution_count": 13,
   "metadata": {},
   "outputs": [],
   "source": [
    "def c2dfft2(I, F, O):\n",
    "    for im, img in enumerate(I):\n",
    "        for fi, fil in enumerate(F):\n",
    "            O[:, :, im, fi] = fftconvolve(img, fil, mode='same')"
   ]
  },
  {
   "cell_type": "code",
   "execution_count": 17,
   "metadata": {},
   "outputs": [],
   "source": [
    "def experiment(img_size, filter_size):\n",
    "    random.seed(119)\n",
    "    random_seed = random.sample(range(200), k=20)\n",
    "    \n",
    "    args1 = {}\n",
    "    args2 = {}\n",
    "    \n",
    "    for f in filter_size:\n",
    "        temp1 = []\n",
    "        temp2 = []    \n",
    "        for seed in random_seed:\n",
    "            I1, F1, O1 = makeData1(img_size, 2, f, 3, seed)\n",
    "            temp1.append((I1, F1, O1))\n",
    "            I2, F2, O2 = makeData2(img_size, 2, f, 3, seed)\n",
    "        args1[f] = temp1\n",
    "        args2[f] = temp2\n",
    "\n",
    "    for f in filter_size:\n",
    "        results = []\n",
    "        start1 = datetime.now()\n",
    "        for arg in args1[f]:\n",
    "            I_temp, F_temp, O_temp = arg\n",
    "            c2d1(I_temp, F_temp, O_temp)\n",
    "        end1 = datetime.now()\n",
    "        results.append((end1 - start1))\n",
    "\n",
    "        start2 = datetime.now()\n",
    "        for arg in args1[f]:\n",
    "            I_temp, F_temp, O_temp = arg\n",
    "            c2dfft1(I_temp, F_temp, O_temp)\n",
    "        end2 = datetime.now()\n",
    "        results.append((end2 - start2))\n",
    "\n",
    "        start3 = datetime.now()\n",
    "        for arg in args2[f]:\n",
    "            I_temp, F_temp, O_temp = arg\n",
    "            c2d2(I_temp, F_temp, O_temp)\n",
    "        end3 = datetime.now()\n",
    "        results.append((end3 - start3))\n",
    "\n",
    "        start4 = datetime.now()\n",
    "        for arg in args2[f]:\n",
    "            I_temp, F_temp, O_temp = arg\n",
    "            c2dfft2(I_temp, F_temp, O_temp)\n",
    "        end4 = datetime.now()\n",
    "        results.append((end4 - start4))\n",
    "\n",
    "        print(\"Filter size: {}, convolution(N, N, img): {}, fourier(M, M, filt): {},  ||  convolution(img, N, N): {}, fourier(filt, M, M): {} \".format(f, results[0], results[1], results[2], results[3]))"
   ]
  },
  {
   "cell_type": "code",
   "execution_count": 18,
   "metadata": {},
   "outputs": [],
   "source": [
    "img_size = 512\n",
    "filter_size = [2, 3, 4, 5, 6, 7, 8, 9, 10]"
   ]
  },
  {
   "cell_type": "code",
   "execution_count": 19,
   "metadata": {},
   "outputs": [
    {
     "name": "stdout",
     "output_type": "stream",
     "text": [
      "Filter size: 2, convolution(N, N, img): 0:00:00.361121, fourier(M, M, filt): 0:00:00.713493,  ||  convolution(img, N, N): 0:00:00.000001, fourier(filt, M, M): 0:00:00 \n",
      "Filter size: 3, convolution(N, N, img): 0:00:00.585609, fourier(M, M, filt): 0:00:00.703237,  ||  convolution(img, N, N): 0:00:00.000001, fourier(filt, M, M): 0:00:00 \n",
      "Filter size: 4, convolution(N, N, img): 0:00:00.895930, fourier(M, M, filt): 0:00:00.709604,  ||  convolution(img, N, N): 0:00:00.000001, fourier(filt, M, M): 0:00:00.000001 \n",
      "Filter size: 5, convolution(N, N, img): 0:00:01.247817, fourier(M, M, filt): 0:00:00.713040,  ||  convolution(img, N, N): 0:00:00.000001, fourier(filt, M, M): 0:00:00 \n",
      "Filter size: 6, convolution(N, N, img): 0:00:01.700253, fourier(M, M, filt): 0:00:00.700250,  ||  convolution(img, N, N): 0:00:00.000001, fourier(filt, M, M): 0:00:00 \n",
      "Filter size: 7, convolution(N, N, img): 0:00:02.301327, fourier(M, M, filt): 0:00:00.699612,  ||  convolution(img, N, N): 0:00:00.000002, fourier(filt, M, M): 0:00:00 \n",
      "Filter size: 8, convolution(N, N, img): 0:00:02.824897, fourier(M, M, filt): 0:00:00.707862,  ||  convolution(img, N, N): 0:00:00.000001, fourier(filt, M, M): 0:00:00.000001 \n",
      "Filter size: 9, convolution(N, N, img): 0:00:03.431055, fourier(M, M, filt): 0:00:00.714544,  ||  convolution(img, N, N): 0:00:00.000001, fourier(filt, M, M): 0:00:00.000001 \n",
      "Filter size: 10, convolution(N, N, img): 0:00:04.132760, fourier(M, M, filt): 0:00:00.700882,  ||  convolution(img, N, N): 0:00:00.000001, fourier(filt, M, M): 0:00:00 \n"
     ]
    }
   ],
   "source": [
    "experiment(img_size, filter_size)"
   ]
  },
  {
   "cell_type": "markdown",
   "metadata": {},
   "source": [
    "Convolution and fourier transformation with shape of (numimg, N, N) is much faster than the shape of (N, N, numimg)"
   ]
  }
 ],
 "metadata": {
  "kernelspec": {
   "display_name": "Python 3.9.12 ('DL')",
   "language": "python",
   "name": "python3"
  },
  "language_info": {
   "codemirror_mode": {
    "name": "ipython",
    "version": 3
   },
   "file_extension": ".py",
   "mimetype": "text/x-python",
   "name": "python",
   "nbconvert_exporter": "python",
   "pygments_lexer": "ipython3",
   "version": "3.9.12"
  },
  "orig_nbformat": 4,
  "vscode": {
   "interpreter": {
    "hash": "fe294e6606534daba89c1dc14d4f5ef002211ec8430f3955bebe6e14ba2710b8"
   }
  }
 },
 "nbformat": 4,
 "nbformat_minor": 2
}
