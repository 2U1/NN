{
 "cells": [
  {
   "cell_type": "markdown",
   "metadata": {},
   "source": [
    "# Assignment3"
   ]
  },
  {
   "cell_type": "code",
   "execution_count": 6,
   "metadata": {},
   "outputs": [],
   "source": [
    "import numpy as np\n",
    "from scipy.signal import convolve2d, fftconvolve\n",
    "from datetime import datetime\n",
    "import random"
   ]
  },
  {
   "cell_type": "code",
   "execution_count": 2,
   "metadata": {},
   "outputs": [],
   "source": [
    "def makeData (N=256, numimg=2, M=8, numfilt=3, seed=42):\n",
    "    np.random.seed(seed)\n",
    "    I = np.random.rand(N, N, numimg)\n",
    "    F = np.random.rand(M, M, numfilt)\n",
    "    O = np.zeros((N, N, numimg, numfilt))\n",
    "\n",
    "    return I, F, O"
   ]
  },
  {
   "cell_type": "code",
   "execution_count": 3,
   "metadata": {},
   "outputs": [],
   "source": [
    "def c2d(I, F, O):\n",
    "    for im, img in enumerate(I):\n",
    "        for fi, fil in enumerate(F):\n",
    "            O[:, :, im, fi] = convolve2d(img, fil, mode='same', boundary='fill', fillvalue=0)"
   ]
  },
  {
   "cell_type": "code",
   "execution_count": 4,
   "metadata": {},
   "outputs": [],
   "source": [
    "def c2dfft(I, F, O):\n",
    "    for im, img in enumerate(I):\n",
    "        for fi, fil in enumerate(F):\n",
    "            O[:, :, im, fi] = fftconvolve(img, fil, mode='same')"
   ]
  },
  {
   "cell_type": "code",
   "execution_count": null,
   "metadata": {},
   "outputs": [],
   "source": [
    "def experiment(img_size, filter_size):\n",
    "    random.seed(119)\n",
    "    random_seed = random.sample(range(200), k=20)\n",
    "    \n",
    "    args = {}\n",
    "    \n",
    "    for f in filter_size:\n",
    "        temp = []    \n",
    "        for seed in random_seed:\n",
    "            I, F, O = makeData(img_size, 2, f, 3, seed)\n",
    "            temp.append((I, F, O))\n",
    "        args[f] = temp\n",
    "\n",
    "    for arg in args:\n",
    "        pass"
   ]
  },
  {
   "cell_type": "code",
   "execution_count": null,
   "metadata": {},
   "outputs": [],
   "source": [
    "img_size = 512\n",
    "filter_size = [8, 16, 32, 64, 128, 256]"
   ]
  }
 ],
 "metadata": {
  "kernelspec": {
   "display_name": "Python 3.9.12 ('DL')",
   "language": "python",
   "name": "python3"
  },
  "language_info": {
   "codemirror_mode": {
    "name": "ipython",
    "version": 3
   },
   "file_extension": ".py",
   "mimetype": "text/x-python",
   "name": "python",
   "nbconvert_exporter": "python",
   "pygments_lexer": "ipython3",
   "version": "3.9.12"
  },
  "orig_nbformat": 4,
  "vscode": {
   "interpreter": {
    "hash": "fe294e6606534daba89c1dc14d4f5ef002211ec8430f3955bebe6e14ba2710b8"
   }
  }
 },
 "nbformat": 4,
 "nbformat_minor": 2
}
