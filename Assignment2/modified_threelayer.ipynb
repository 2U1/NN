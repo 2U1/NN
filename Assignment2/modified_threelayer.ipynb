{
 "cells": [
  {
   "cell_type": "code",
   "execution_count": 1,
   "metadata": {},
   "outputs": [],
   "source": [
    "import numpy as np\n",
    "import seaborn as sb\n",
    "import pandas\n",
    "import sys\n",
    "import matplotlib.pyplot as plt\n",
    "import matplotlib.image as mpimg\n",
    "from sklearn.linear_model import LinearRegression\n",
    "import torch\n",
    "import time\n",
    "import random"
   ]
  },
  {
   "cell_type": "markdown",
   "metadata": {},
   "source": [
    "# Part1\n"
   ]
  },
  {
   "cell_type": "code",
   "execution_count": 2,
   "metadata": {},
   "outputs": [],
   "source": [
    "def relu(X):\n",
    "    return np.maximum(X, 0)\n",
    "\n",
    "def relu_derivative(X):\n",
    "    return 1. * (X>0)\n",
    "\n",
    "def tanh(X):\n",
    "    return np.tanh(X)\n",
    "\n",
    "def tanh_derivative(X):\n",
    "    return (1. -tanh(X)**2)\n",
    "\n",
    "def logistic(X):\n",
    "    return (1.0/(1.0 + np.exp(-X)))\n",
    "\n",
    "def logistic_derivative(X):\n",
    "    return (logistic(X) * (1.0-logistic(X)))\n",
    "\n",
    "def actv_func(X):\n",
    "    return "
   ]
  },
  {
   "cell_type": "code",
   "execution_count": 3,
   "metadata": {},
   "outputs": [],
   "source": [
    "# create a multi-layer neural network\n",
    "def create_model(X, hidden_nodes, output_dim=2, activation_function = \"relu\", hidden_layers_num = 2):\n",
    "     \n",
    "    assert len(hidden_nodes) == (hidden_layers_num-1), \\\n",
    "        \"Number of hidden nodes should be equal to number of hidden layers\"\n",
    "    \n",
    "    # this will hold a dictionary of layers\n",
    "    model = {}\n",
    "    model['activation_function'] = activation_function\n",
    "    # input dimensionality\n",
    "    input_dim = X.shape[1]\n",
    "\n",
    "    weight = {}\n",
    "    bias = {}\n",
    "\n",
    "    # initialize the weights and bias\n",
    "    for i in range(hidden_layers_num):\n",
    "        if i == 0:\n",
    "            weight[i] = np.random.randn(input_dim, hidden_nodes[i])\n",
    "            bias[i] = np.zeros((1,hidden_nodes[i]))\n",
    "        \n",
    "        elif i == hidden_layers_num-1:\n",
    "            weight[i] = np.random.randn(hidden_nodes[i-1], output_dim)\n",
    "            bias[i] = np.zeros((1,output_dim))\n",
    "        \n",
    "        else:\n",
    "            weight[i] = np.random.randn(hidden_nodes[i-1], hidden_nodes[i])\n",
    "            bias[i] = np.zeros((1,hidden_nodes[i]))\n",
    "    \n",
    "    model['weight'] = weight\n",
    "    model['bias'] = bias\n",
    "\n",
    "    return model"
   ]
  },
  {
   "cell_type": "code",
   "execution_count": 4,
   "metadata": {},
   "outputs": [],
   "source": [
    "# create a forward pass for multi layer neural network\n",
    "def forward(model, x, activation_function = \"relu\", hidden_layers_num = 2):\n",
    "    # this will hold the activation values\n",
    "    activations = {}\n",
    "    activations[0] = x\n",
    "\n",
    "    # number of layers in the model\n",
    "    L = hidden_layers_num + 1\n",
    "\n",
    "    # perform the forward pass\n",
    "    for i in range(1, L):\n",
    "        if i == L-1:\n",
    "            activations[i] = np.dot(activations[i-1], model['weight'][i-1]) + model['bias'][i-1]\n",
    "        else:\n",
    "            if activation_function == \"relu\":\n",
    "                activations[i] = relu(np.dot(activations[i-1], model['weight'][i-1]) + model['bias'][i-1])\n",
    "            elif activation_function == \"tanh\":\n",
    "                activations[i] = tanh(np.dot(activations[i-1], model['weight'][i-1]) + model['bias'][i-1])\n",
    "            elif activation_function == \"logistic\":\n",
    "                activations[i] = logistic(np.dot(activations[i-1], model['weight'][i-1]) + model['bias'][i-1])\n",
    "            else:\n",
    "                print(\"Please enter a valid activation function\")\n",
    "                sys.exit()\n",
    "    \n",
    "    return activations"
   ]
  },
  {
   "cell_type": "code",
   "execution_count": 5,
   "metadata": {},
   "outputs": [],
   "source": [
    "# create a function for calculatin multi layer regression loss\n",
    "def loss(model, x, y, activation_function = \"relu\", hidden_layers_num = 2):\n",
    "    # get the number of examples\n",
    "    m = x.shape[0]\n",
    "    # perform the forward pass\n",
    "    activations = forward(model, x, activation_function, hidden_layers_num)\n",
    "    # number of layers in the model\n",
    "    L = hidden_layers_num + 1\n",
    "    # get the last activation\n",
    "    yhat = activations[L-1]\n",
    "    # calculate the loss\n",
    "    loss = np.sum((yhat - y)**2) / (2*m)\n",
    "    \n",
    "    return loss"
   ]
  },
  {
   "cell_type": "code",
   "execution_count": 6,
   "metadata": {},
   "outputs": [],
   "source": [
    "# create a function for calculating multi layer regression loss with l2 regularization\n",
    "def calculate_loss(model, x, y, activation_function = \"relu\", hidden_layers_num = 2, reg_lambda = 0.01, regularization=False):\n",
    "    # number of layers in the model\n",
    "    L = hidden_layers_num + 1\n",
    "    \n",
    "    # number of training samples\n",
    "    m = x.shape[0]\n",
    "    \n",
    "    # forward pass\n",
    "    activations = forward(model, x, activation_function, hidden_layers_num)\n",
    "    \n",
    "    if regularization:\n",
    "        # calculate the loss\n",
    "        loss = 0.5 * np.sum((activations[L-1] - y)**2)/m\n",
    "        \n",
    "        # add regularization term to loss (optional)\n",
    "        for i in range(L-1):\n",
    "            loss += 0.5 * reg_lambda * np.sum(model['weight'][i]**2)\n",
    "\n",
    "    else:\n",
    "        # calculate the loss\n",
    "        loss = 0.5 * np.sum((activations[L-1] - y)**2)/m\n",
    "    \n",
    "    return loss"
   ]
  },
  {
   "cell_type": "code",
   "execution_count": 7,
   "metadata": {},
   "outputs": [],
   "source": [
    "# create a function for backpropagation for multi layer neural network with l2 regularization\n",
    "def backward(model, x, y, activations, activation_function = \"relu\", hidden_layers_num = 2, reg_lambda = 0.01, regularization = False):\n",
    "    # number of layers in the model\n",
    "    L = hidden_layers_num + 1\n",
    "    \n",
    "    # number of training samples\n",
    "    m = x.shape[0]\n",
    "    \n",
    "    # backward pass\n",
    "    # first, calculate the gradient at the output layer\n",
    "    grad = {}\n",
    "    grad[L-1] = (activations[L-1] - y)/m\n",
    "    \n",
    "    # next, calculate the gradient for the rest of the layers\n",
    "    for i in range(L-2, 0, -1):\n",
    "        if activation_function == \"relu\":\n",
    "            grad[i] = np.dot(grad[i+1], model['weight'][i].T) * relu_derivative(activations[i])\n",
    "        elif activation_function == \"tanh\":\n",
    "            grad[i] = np.dot(grad[i+1], model['weight'][i].T) * tanh_derivative(activations[i])\n",
    "        elif activation_function == \"logistic\":\n",
    "            grad[i] = np.dot(grad[i+1], model['weight'][i].T) * logistic_derivative(activations[i])\n",
    "        else:\n",
    "            print(\"Please enter a valid activation function\")\n",
    "            sys.exit()\n",
    "    \n",
    "    # calculate the gradient for the weights and bias\n",
    "    grad_weight = {}\n",
    "    grad_bias = {}\n",
    "\n",
    "    if regularization:\n",
    "        for i in range(L-1):\n",
    "            if i == 0:\n",
    "                grad_weight[i] = np.dot(x.T, grad[i+1]) + reg_lambda * model['weight'][i]\n",
    "                grad_bias[i] = np.sum(grad[i+1], axis=0, keepdims=True)\n",
    "            else:\n",
    "                grad_weight[i] = np.dot(activations[i].T, grad[i+1]) + reg_lambda * model['weight'][i]\n",
    "                grad_bias[i] = np.sum(grad[i+1], axis=0, keepdims=True)\n",
    "\n",
    "    else:\n",
    "        for i in range(L-1):\n",
    "            if i == 0:\n",
    "                grad_weight[i] = np.dot(x.T, grad[i+1])\n",
    "                grad_bias[i] = np.sum(grad[i+1], axis=0, keepdims=True)\n",
    "            else:\n",
    "                grad_weight[i] = np.dot(activations[i].T, grad[i+1])\n",
    "                grad_bias[i] = np.sum(grad[i+1], axis=0, keepdims=True)\n",
    "    \n",
    "    return grad_weight, grad_bias"
   ]
  },
  {
   "cell_type": "code",
   "execution_count": 8,
   "metadata": {},
   "outputs": [],
   "source": [
    "# create a function for training the multi layer neural network\n",
    "def train(model, x, y, learning_rate = 0.01, activation_function = \"relu\", hidden_layers_num = 2, reg_lambda = 0.01, epochs = 10000, sgd = True, regularization=True):\n",
    "    # number of layers in the model\n",
    "    L = hidden_layers_num + 1\n",
    "\n",
    "    previous_loss = float('inf')\n",
    "    losses = []\n",
    "\n",
    "    current_iter = 0\n",
    "    \n",
    "    # gradient descent\n",
    "    for i in range(epochs):\n",
    "        if sgd:\n",
    "            # choose a random set of points\n",
    "            randinds = np.random.choice(np.arange(len(y)),30,False)\n",
    "            input_data = x[randinds,:]\n",
    "            target = y[randinds]\n",
    "        else:\n",
    "            input_data = x\n",
    "            target = y\n",
    "        # forward pass\n",
    "        activations = forward(model, input_data, activation_function, hidden_layers_num)\n",
    "        # backward pass\n",
    "        grad_weight, grad_bias = backward(model, input_data, target, activations, activation_function, hidden_layers_num, reg_lambda, regularization=regularization)\n",
    "        \n",
    "        # update the weights and bias\n",
    "        for j in range(L-1):\n",
    "            model['weight'][j] -= learning_rate * grad_weight[j]\n",
    "            model['bias'][j] -= learning_rate * grad_bias[j]\n",
    "\n",
    "        if i % 1000 == 0:\n",
    "            # calculate the loss\n",
    "            loss = calculate_loss(model, x, y, activation_function, hidden_layers_num, reg_lambda, regularization=regularization)\n",
    "            losses.append(loss)\n",
    "            # print(\"Loss after iteration %i: %f\" %(i, loss))\n",
    "            # very crude method to break optimization\n",
    "            if np.abs((previous_loss-loss)/previous_loss) < 0.0001:\n",
    "                break\n",
    "            previous_loss = loss\n",
    "        \n",
    "        current_iter += 1\n",
    "\n",
    "    current_iter += 1\n",
    "    \n",
    "    return model, losses, current_iter"
   ]
  },
  {
   "cell_type": "markdown",
   "metadata": {},
   "source": [
    "### create data for regression"
   ]
  },
  {
   "cell_type": "code",
   "execution_count": 9,
   "metadata": {},
   "outputs": [],
   "source": [
    "numDataOne = 15\n",
    "numData = numDataOne*numDataOne\n",
    "# create data for regression\n",
    "xs=np.linspace(-8,8,numDataOne)\n",
    "ys=np.linspace(-8,8,numDataOne)\n",
    "counter=0\n",
    "X=np.zeros((numData,2))\n",
    "y=np.zeros((numData,1))\n",
    "for r in np.arange(0,numDataOne):\n",
    "    for c in np.arange(0,numDataOne):\n",
    "        X[counter,:]=[xs[r],ys[c]]\n",
    "        # x^2+y^2+1\n",
    "        y[counter]=xs[r]**2+ys[c]**2+1\n",
    "        counter=counter+1"
   ]
  },
  {
   "cell_type": "markdown",
   "metadata": {},
   "source": [
    "## Experiment\n"
   ]
  },
  {
   "cell_type": "code",
   "execution_count": 10,
   "metadata": {},
   "outputs": [],
   "source": [
    "def experiment(x, y, config):\n",
    "    # get configuration parameters\n",
    "    learning_rate = config['learning_rate']\n",
    "    activation_function = config['activation_function']\n",
    "    hidden_layers_num = config['hidden_layers_num']\n",
    "    hidden_nodes_num = config['hidden_nodes_num']\n",
    "    reg_lambda = config['reg_lambda']\n",
    "    epochs = config['epochs']\n",
    "    sgd = config['sgd']\n",
    "    regularization = config['regularization']\n",
    "    output_dim = y.shape[1]\n",
    "\n",
    "\n",
    "    # create a model\n",
    "    model = create_model(x, hidden_nodes_num, \n",
    "                        output_dim, activation_function, \n",
    "                        hidden_layers_num = hidden_layers_num)\n",
    "    \n",
    "    # train the model\n",
    "    model, losses, last_iter = train(model, x, y, \n",
    "                                    learning_rate = learning_rate, \n",
    "                                    activation_function = activation_function, \n",
    "                                    hidden_layers_num = hidden_layers_num, \n",
    "                                    reg_lambda = reg_lambda, \n",
    "                                    epochs = epochs)\n",
    "\n",
    "    return model, losses, last_iter"
   ]
  },
  {
   "cell_type": "markdown",
   "metadata": {},
   "source": [
    "### 8 neurons"
   ]
  },
  {
   "cell_type": "markdown",
   "metadata": {},
   "source": [
    "#### 2-layers"
   ]
  },
  {
   "cell_type": "code",
   "execution_count": 11,
   "metadata": {},
   "outputs": [
    {
     "name": "stderr",
     "output_type": "stream",
     "text": [
      "/tmp/ipykernel_2344/874329713.py:37: RuntimeWarning: invalid value encountered in double_scalars\n",
      "  if np.abs((previous_loss-loss)/previous_loss) < 0.0001:\n"
     ]
    }
   ],
   "source": [
    "result = {}\n",
    "\n",
    "config1 = {}\n",
    "config1['learning_rate'] = 0.001\n",
    "config1['activation_function'] = \"relu\"\n",
    "config1['hidden_layers_num'] = 2\n",
    "config1['hidden_nodes_num'] = [8]\n",
    "config1['reg_lambda'] = 0.01\n",
    "config1['epochs'] = 100000\n",
    "config1['sgd'] = False\n",
    "config1['regularization'] = False\n",
    "\n",
    "\n",
    "for i in range(10):\n",
    "    model, losses, last_iter = experiment(X, y, config1)\n",
    "    result[i] = {}\n",
    "    result[i]['model'] = model\n",
    "    result[i]['losses'] = losses\n",
    "    result[i]['last_iter'] = last_iter"
   ]
  },
  {
   "cell_type": "code",
   "execution_count": 12,
   "metadata": {},
   "outputs": [],
   "source": [
    "earliest_stop1 = min(list(result.values()), key=lambda x: x['last_iter'])"
   ]
  },
  {
   "cell_type": "markdown",
   "metadata": {},
   "source": [
    "#### 3-layers"
   ]
  },
  {
   "cell_type": "code",
   "execution_count": 13,
   "metadata": {},
   "outputs": [
    {
     "name": "stderr",
     "output_type": "stream",
     "text": [
      "/tmp/ipykernel_2344/874329713.py:37: RuntimeWarning: invalid value encountered in double_scalars\n",
      "  if np.abs((previous_loss-loss)/previous_loss) < 0.0001:\n"
     ]
    }
   ],
   "source": [
    "result = {}\n",
    "\n",
    "config2 = {}\n",
    "config2['learning_rate'] = 0.001\n",
    "config2['activation_function'] = \"relu\"\n",
    "config2['hidden_layers_num'] = 3\n",
    "config2['hidden_nodes_num'] = [4,4]\n",
    "config2['reg_lambda'] = 0.01\n",
    "config2['epochs'] = 100000\n",
    "config2['sgd'] = False\n",
    "config2['regularization'] = False\n",
    "\n",
    "\n",
    "for i in range(10):\n",
    "    model, losses, last_iter = experiment(X, y, config2)\n",
    "    result[i] = {}\n",
    "    result[i]['model'] = model\n",
    "    result[i]['losses'] = losses\n",
    "    result[i]['last_iter'] = last_iter"
   ]
  },
  {
   "cell_type": "code",
   "execution_count": 14,
   "metadata": {},
   "outputs": [],
   "source": [
    "earliest_stop2 = min(list(result.values()), key=lambda x: x['last_iter'])"
   ]
  },
  {
   "cell_type": "markdown",
   "metadata": {},
   "source": [
    "### 16 neurons"
   ]
  },
  {
   "cell_type": "markdown",
   "metadata": {},
   "source": [
    "#### 2-layers"
   ]
  },
  {
   "cell_type": "code",
   "execution_count": 15,
   "metadata": {},
   "outputs": [
    {
     "name": "stderr",
     "output_type": "stream",
     "text": [
      "/tmp/ipykernel_2344/874329713.py:37: RuntimeWarning: invalid value encountered in double_scalars\n",
      "  if np.abs((previous_loss-loss)/previous_loss) < 0.0001:\n"
     ]
    }
   ],
   "source": [
    "result = {}\n",
    "\n",
    "config3 = {}\n",
    "config3['learning_rate'] = 0.001\n",
    "config3['activation_function'] = \"relu\"\n",
    "config3['hidden_layers_num'] = 2\n",
    "config3['hidden_nodes_num'] = [16]\n",
    "config3['reg_lambda'] = 0.01\n",
    "config3['epochs'] = 100000\n",
    "config3['sgd'] = False\n",
    "config3['regularization'] = False\n",
    "\n",
    "\n",
    "for i in range(10):\n",
    "    model, losses, last_iter = experiment(X, y, config3)\n",
    "    result[i] = {}\n",
    "    result[i]['model'] = model\n",
    "    result[i]['losses'] = losses\n",
    "    result[i]['last_iter'] = last_iter"
   ]
  },
  {
   "cell_type": "code",
   "execution_count": 16,
   "metadata": {},
   "outputs": [],
   "source": [
    "earliest_stop3 = min(list(result.values()), key=lambda x: x['last_iter'])"
   ]
  },
  {
   "cell_type": "markdown",
   "metadata": {},
   "source": [
    "#### 3-layers"
   ]
  },
  {
   "cell_type": "code",
   "execution_count": 17,
   "metadata": {},
   "outputs": [
    {
     "name": "stderr",
     "output_type": "stream",
     "text": [
      "/tmp/ipykernel_2344/874329713.py:37: RuntimeWarning: invalid value encountered in double_scalars\n",
      "  if np.abs((previous_loss-loss)/previous_loss) < 0.0001:\n"
     ]
    }
   ],
   "source": [
    "result = {}\n",
    "\n",
    "config4 = {}\n",
    "config4['learning_rate'] = 0.001\n",
    "config4['activation_function'] = \"relu\"\n",
    "config4['hidden_layers_num'] = 3\n",
    "config4['hidden_nodes_num'] = [8,8]\n",
    "config4['reg_lambda'] = 0.01\n",
    "config4['epochs'] = 100000\n",
    "config4['sgd'] = False\n",
    "config4['regularization'] = False\n",
    "\n",
    "\n",
    "for i in range(10):\n",
    "    model, losses, last_iter = experiment(X, y, config4)\n",
    "    result[i] = {}\n",
    "    result[i]['model'] = model\n",
    "    result[i]['losses'] = losses\n",
    "    result[i]['last_iter'] = last_iter"
   ]
  },
  {
   "cell_type": "code",
   "execution_count": 18,
   "metadata": {},
   "outputs": [],
   "source": [
    "earliest_stop4 = min(list(result.values()), key=lambda x: x['last_iter'])"
   ]
  },
  {
   "cell_type": "code",
   "execution_count": 23,
   "metadata": {},
   "outputs": [
    {
     "data": {
      "image/png": "[encoded data removed]",
      "text/plain": [
       "<Figure size 720x720 with 1 Axes>"
      ]
     },
     "metadata": {
      "needs_background": "light"
     },
     "output_type": "display_data"
    }
   ],
   "source": [
    "plt.figure(figsize=(10,10))\n",
    "# plt.plot(losses)\n",
    "plt.plot(earliest_stop1['losses'], label='2 layers, 8 nodes, {} iterations'.format(earliest_stop1['last_iter']))\n",
    "plt.plot(earliest_stop2['losses'], label='3 layers, 4 nodes, {} iterations'.format(earliest_stop2['last_iter']))\n",
    "plt.plot(earliest_stop3['losses'], label='2 layers, 16 nodes, {} iterations'.format(earliest_stop3['last_iter']))\n",
    "plt.plot(earliest_stop4['losses'], label='3 layers, 8 nodes, {} iterations'.format(earliest_stop4['last_iter']))\n",
    "plt.xlabel('Iteration [in thousands]')\n",
    "plt.ylabel('Average per-item loss')\n",
    "plt.title('Loss evolution')\n",
    "plt.legend(loc='upper right')\n",
    "plt.grid()\n",
    "plt.show()"
   ]
  },
  {
   "cell_type": "markdown",
   "metadata": {},
   "source": [
    "As you can see, the networks converges very well. Also, the values dosen't have big differences.<br>\n",
    "So, the best one should be one that converges fastest. The 3 layer with 8 nodes each converges fastest."
   ]
  },
  {
   "cell_type": "markdown",
   "metadata": {},
   "source": [
    "# Bonus"
   ]
  },
  {
   "cell_type": "code",
   "execution_count": 26,
   "metadata": {},
   "outputs": [
    {
     "name": "stderr",
     "output_type": "stream",
     "text": [
      "/tmp/ipykernel_2344/874329713.py:37: RuntimeWarning: invalid value encountered in double_scalars\n",
      "  if np.abs((previous_loss-loss)/previous_loss) < 0.0001:\n"
     ]
    }
   ],
   "source": [
    "numDataOne = 15\n",
    "numData = numDataOne*numDataOne\n",
    "# create data for regression\n",
    "xs=np.linspace(-8,8,numDataOne)\n",
    "ys=np.linspace(-8,8,numDataOne)\n",
    "counter=0\n",
    "X=np.zeros((numData,2))\n",
    "y=np.zeros((numData,1))\n",
    "for r in np.arange(0,numDataOne):\n",
    "    for c in np.arange(0,numDataOne):\n",
    "        X[counter,:]=[xs[r],ys[c]]\n",
    "        # x^2+y^2+1\n",
    "        y[counter]=xs[r]**2+ys[c]**2+1\n",
    "        counter=counter+1\n",
    "# training set size\n",
    "num_examples = len(X) \n",
    "# output layer dimensionality\n",
    "nn_output_dim = 1  \n",
    "# learning rate for gradient descent\n",
    "learning_rate = 1e-5\n",
    "# regularization strength\n",
    "reg_lambda = 0.01 \n",
    "# activation function type\n",
    "activation_function = 'relu'\n",
    "# Number of hidden layers\n",
    "hidden_layers_num = 4\n",
    "# Number of hidden layer nodes\n",
    "hidden_nodes_num = [8,16,8]\n",
    "# sgd or not \n",
    "sgd = False\n",
    "# regularization or not\n",
    "regularization = False\n",
    "# Number of iteration\n",
    "epochs = 100000\n",
    "regularization = False\n",
    "model = create_model(X,hidden_nodes_num,nn_output_dim, \n",
    "                    activation_function, \n",
    "                    hidden_layers_num = hidden_layers_num)\n",
    "\n",
    "# train it\n",
    "model, losses, last_iter = train(model,X, y, \n",
    "                                epochs = epochs, \n",
    "                                reg_lambda=reg_lambda, \n",
    "                                learning_rate=learning_rate, \n",
    "                                hidden_layers_num=hidden_layers_num, \n",
    "                                sgd=sgd, \n",
    "                                regularization=regularization)"
   ]
  },
  {
   "cell_type": "code",
   "execution_count": 27,
   "metadata": {},
   "outputs": [
    {
     "data": {
      "image/png": "[encoded data removed]",
      "text/plain": [
       "<Figure size 720x720 with 1 Axes>"
      ]
     },
     "metadata": {
      "needs_background": "light"
     },
     "output_type": "display_data"
    }
   ],
   "source": [
    "plt.figure(figsize=(10,10))\n",
    "plt.plot(losses)\n",
    "plt.xlabel('Iteration [in thousands]')\n",
    "plt.ylabel('Average per-item loss')\n",
    "plt.title('Loss evolution')\n",
    "plt.grid()\n",
    "plt.show()"
   ]
  },
  {
   "cell_type": "markdown",
   "metadata": {},
   "source": [
    "For bonus, we choosed 4 layer for arbitary multi layer perceptron. <br>\n",
    "The learning rate should be less then 1e-4. Becaouse it doesn not converge when the learning rate is larger than 1e-4."
   ]
  },
  {
   "cell_type": "markdown",
   "metadata": {},
   "source": [
    "# Part2 Pytorch version"
   ]
  },
  {
   "cell_type": "code",
   "execution_count": 35,
   "metadata": {},
   "outputs": [],
   "source": [
    "import torch\n",
    "import torch.nn as nn\n",
    "import torch.optim as optim\n",
    "import time\n",
    "import matplotlib.pyplot as plt"
   ]
  },
  {
   "cell_type": "code",
   "execution_count": 36,
   "metadata": {},
   "outputs": [],
   "source": [
    "numDataOne = 15\n",
    "numData = numDataOne*numDataOne\n",
    "# create data for regression\n",
    "xs=np.linspace(-8,8,numDataOne)\n",
    "ys=np.linspace(-8,8,numDataOne)\n",
    "counter=0\n",
    "X=np.zeros((numData,2))\n",
    "y=np.zeros((numData,1))\n",
    "for r in np.arange(0,numDataOne):\n",
    "    for c in np.arange(0,numDataOne):\n",
    "        X[counter,:]=[xs[r],ys[c]]\n",
    "        # x^2+y^2+1\n",
    "        y[counter]=xs[r]**2+ys[c]**2+1\n",
    "        counter=counter+1"
   ]
  },
  {
   "cell_type": "code",
   "execution_count": 37,
   "metadata": {},
   "outputs": [],
   "source": [
    "#if (torch.has_cuda): # do this for automatic switching\n",
    "doGPU=True\n",
    "if (doGPU):\n",
    "    device = torch.device('cuda')\n",
    "else:\n",
    "    device = torch.device('cpu')"
   ]
  },
  {
   "cell_type": "code",
   "execution_count": 38,
   "metadata": {},
   "outputs": [],
   "source": [
    "config1 = {}\n",
    "config1['learning_rate'] = 1e-5\n",
    "config1['activation_function'] = \"relu\"\n",
    "config1['hidden_nodes_num'] = [8,8]\n",
    "config1['optimizer'] = \"Adam\"\n",
    "config1['epochs'] = 100000\n",
    "config1['device'] = device"
   ]
  },
  {
   "cell_type": "code",
   "execution_count": 39,
   "metadata": {},
   "outputs": [],
   "source": [
    "config2 = {}\n",
    "config2['learning_rate'] = 1e-5\n",
    "config2['activation_function'] = \"relu\"\n",
    "config2['hidden_nodes_num'] = [8,8]\n",
    "config2['optimizer'] = \"SGD\"\n",
    "config2['epochs'] = 100000\n",
    "config2['device'] = device"
   ]
  },
  {
   "cell_type": "code",
   "execution_count": 40,
   "metadata": {},
   "outputs": [],
   "source": [
    "def experiment(x, y, config):\n",
    "    input_dim = x.shape[1]\n",
    "    output_dim = y.shape[1]\n",
    "    learning_rate = config['learning_rate']\n",
    "    activation_function = config['activation_function']\n",
    "    hidden_nodes_num = config['hidden_nodes_num']\n",
    "    opt = config['optimizer']\n",
    "    epochs = config['epochs']\n",
    "    device = config['device']\n",
    "    \n",
    "    if activation_function == \"relu\":\n",
    "        activation_function = nn.ReLU()\n",
    "\n",
    "    elif activation_function == \"tanh\":\n",
    "        activation_function = nn.Tanh()\n",
    "\n",
    "    elif activation_function == \"logistic\":\n",
    "        activation_function = nn.LogSigmoid()\n",
    "    \n",
    "    else:\n",
    "        print(\"Please enter a valid activation function\")\n",
    "        sys.exit()\n",
    "        \n",
    "    \n",
    "    model = nn.Sequential(\n",
    "        nn.Linear(input_dim, hidden_nodes_num[0]),\n",
    "        activation_function,\n",
    "        nn.Linear(hidden_nodes_num[0], hidden_nodes_num[1]),\n",
    "        activation_function,\n",
    "        nn.Linear(hidden_nodes_num[1], output_dim)\n",
    "    )\n",
    "\n",
    "    model.to(device)\n",
    "\n",
    "\n",
    "    if opt == \"Adam\":\n",
    "        optimizer = torch.optim.Adam(model.parameters(), lr = learning_rate)\n",
    "    elif opt == \"SGD\":\n",
    "        optimizer = torch.optim.SGD(model.parameters(), lr = learning_rate)\n",
    "\n",
    "    loss_func = nn.MSELoss(reduction=\"sum\")\n",
    "    loss_array = []\n",
    "\n",
    "\n",
    "    for i in range(epochs):\n",
    "        # Forward pass: compute predicted y by passing x to the model. Module objects\n",
    "        # override the __call__ operator so you can call them like functions. When\n",
    "        # doing so you pass a Tensor of input data to the Module and it produces\n",
    "        # a Tensor of output data.\n",
    "        optimizer.zero_grad()\n",
    "        y_pred = model(x) \n",
    "        \n",
    "        # Compute and print loss. We pass Tensors containing the predicted and true\n",
    "        # values of y, and the loss function returns a Tensor containing the loss.\n",
    "        loss = loss_func(y_pred, y)\n",
    "        loss.backward()\n",
    "        optimizer.step()\n",
    "\n",
    "        # Before the backward pass, use the optimizer object to zero all of the\n",
    "        # gradients for the Tensors it will update (which are the learnable weights\n",
    "        # of the model)\n",
    "\n",
    "        # Backward pass: compute gradient of the loss with respect to all the learnable\n",
    "        # parameters of the model. Internally, the parameters of each Module are stored\n",
    "        # in Tensors with requires_grad=True, so this call will compute gradients for\n",
    "        # all learnable parameters in the model.\n",
    "        loss_array.append(loss.item())\n",
    "\n",
    "    return model, loss_array\n",
    "        "
   ]
  },
  {
   "cell_type": "code",
   "execution_count": 41,
   "metadata": {},
   "outputs": [
    {
     "ename": "KeyboardInterrupt",
     "evalue": "",
     "output_type": "error",
     "traceback": [
      "\u001b[0;31m---------------------------------------------------------------------------\u001b[0m",
      "\u001b[0;31mKeyboardInterrupt\u001b[0m                         Traceback (most recent call last)",
      "\u001b[1;32m/home/yuwon/workspace/NN/Assignment2/modified_threelayer.ipynb 셀 41\u001b[0m in \u001b[0;36m<cell line: 2>\u001b[0;34m()\u001b[0m\n\u001b[1;32m      <a href='vscode-notebook-cell://wsl%2Bubuntu/home/yuwon/workspace/NN/Assignment2/modified_threelayer.ipynb#Y141sdnNjb2RlLXJlbW90ZQ%3D%3D?line=1'>2</a>\u001b[0m \u001b[39mfor\u001b[39;00m i \u001b[39min\u001b[39;00m \u001b[39mrange\u001b[39m(\u001b[39m10\u001b[39m):\n\u001b[1;32m      <a href='vscode-notebook-cell://wsl%2Bubuntu/home/yuwon/workspace/NN/Assignment2/modified_threelayer.ipynb#Y141sdnNjb2RlLXJlbW90ZQ%3D%3D?line=2'>3</a>\u001b[0m     model1, loss1 \u001b[39m=\u001b[39m experiment(torch\u001b[39m.\u001b[39mtensor(X)\u001b[39m.\u001b[39mfloat()\u001b[39m.\u001b[39mto(device), torch\u001b[39m.\u001b[39mtensor(y)\u001b[39m.\u001b[39mfloat()\u001b[39m.\u001b[39mto(device), config1)\n\u001b[0;32m----> <a href='vscode-notebook-cell://wsl%2Bubuntu/home/yuwon/workspace/NN/Assignment2/modified_threelayer.ipynb#Y141sdnNjb2RlLXJlbW90ZQ%3D%3D?line=3'>4</a>\u001b[0m     model2, loss2 \u001b[39m=\u001b[39m experiment(torch\u001b[39m.\u001b[39;49mtensor(X)\u001b[39m.\u001b[39;49mfloat()\u001b[39m.\u001b[39;49mto(device), torch\u001b[39m.\u001b[39;49mtensor(y)\u001b[39m.\u001b[39;49mfloat()\u001b[39m.\u001b[39;49mto(device), config2)\n\u001b[1;32m      <a href='vscode-notebook-cell://wsl%2Bubuntu/home/yuwon/workspace/NN/Assignment2/modified_threelayer.ipynb#Y141sdnNjb2RlLXJlbW90ZQ%3D%3D?line=5'>6</a>\u001b[0m     fig,ax \u001b[39m=\u001b[39m plt\u001b[39m.\u001b[39msubplots(figsize\u001b[39m=\u001b[39m(\u001b[39m8\u001b[39m,\u001b[39m6\u001b[39m))\n\u001b[1;32m      <a href='vscode-notebook-cell://wsl%2Bubuntu/home/yuwon/workspace/NN/Assignment2/modified_threelayer.ipynb#Y141sdnNjb2RlLXJlbW90ZQ%3D%3D?line=6'>7</a>\u001b[0m     plt\u001b[39m.\u001b[39mplot(loss1, label\u001b[39m=\u001b[39m\u001b[39m'\u001b[39m\u001b[39moptimzer: Adam\u001b[39m\u001b[39m'\u001b[39m)\n",
      "\u001b[1;32m/home/yuwon/workspace/NN/Assignment2/modified_threelayer.ipynb 셀 41\u001b[0m in \u001b[0;36mexperiment\u001b[0;34m(x, y, config)\u001b[0m\n\u001b[1;32m     <a href='vscode-notebook-cell://wsl%2Bubuntu/home/yuwon/workspace/NN/Assignment2/modified_threelayer.ipynb#Y141sdnNjb2RlLXJlbW90ZQ%3D%3D?line=44'>45</a>\u001b[0m \u001b[39mfor\u001b[39;00m i \u001b[39min\u001b[39;00m \u001b[39mrange\u001b[39m(epochs):\n\u001b[1;32m     <a href='vscode-notebook-cell://wsl%2Bubuntu/home/yuwon/workspace/NN/Assignment2/modified_threelayer.ipynb#Y141sdnNjb2RlLXJlbW90ZQ%3D%3D?line=45'>46</a>\u001b[0m     \u001b[39m# Forward pass: compute predicted y by passing x to the model. Module objects\u001b[39;00m\n\u001b[1;32m     <a href='vscode-notebook-cell://wsl%2Bubuntu/home/yuwon/workspace/NN/Assignment2/modified_threelayer.ipynb#Y141sdnNjb2RlLXJlbW90ZQ%3D%3D?line=46'>47</a>\u001b[0m     \u001b[39m# override the __call__ operator so you can call them like functions. When\u001b[39;00m\n\u001b[1;32m     <a href='vscode-notebook-cell://wsl%2Bubuntu/home/yuwon/workspace/NN/Assignment2/modified_threelayer.ipynb#Y141sdnNjb2RlLXJlbW90ZQ%3D%3D?line=47'>48</a>\u001b[0m     \u001b[39m# doing so you pass a Tensor of input data to the Module and it produces\u001b[39;00m\n\u001b[1;32m     <a href='vscode-notebook-cell://wsl%2Bubuntu/home/yuwon/workspace/NN/Assignment2/modified_threelayer.ipynb#Y141sdnNjb2RlLXJlbW90ZQ%3D%3D?line=48'>49</a>\u001b[0m     \u001b[39m# a Tensor of output data.\u001b[39;00m\n\u001b[1;32m     <a href='vscode-notebook-cell://wsl%2Bubuntu/home/yuwon/workspace/NN/Assignment2/modified_threelayer.ipynb#Y141sdnNjb2RlLXJlbW90ZQ%3D%3D?line=49'>50</a>\u001b[0m     optimizer\u001b[39m.\u001b[39mzero_grad()\n\u001b[0;32m---> <a href='vscode-notebook-cell://wsl%2Bubuntu/home/yuwon/workspace/NN/Assignment2/modified_threelayer.ipynb#Y141sdnNjb2RlLXJlbW90ZQ%3D%3D?line=50'>51</a>\u001b[0m     y_pred \u001b[39m=\u001b[39m model(x) \n\u001b[1;32m     <a href='vscode-notebook-cell://wsl%2Bubuntu/home/yuwon/workspace/NN/Assignment2/modified_threelayer.ipynb#Y141sdnNjb2RlLXJlbW90ZQ%3D%3D?line=52'>53</a>\u001b[0m     \u001b[39m# Compute and print loss. We pass Tensors containing the predicted and true\u001b[39;00m\n\u001b[1;32m     <a href='vscode-notebook-cell://wsl%2Bubuntu/home/yuwon/workspace/NN/Assignment2/modified_threelayer.ipynb#Y141sdnNjb2RlLXJlbW90ZQ%3D%3D?line=53'>54</a>\u001b[0m     \u001b[39m# values of y, and the loss function returns a Tensor containing the loss.\u001b[39;00m\n\u001b[1;32m     <a href='vscode-notebook-cell://wsl%2Bubuntu/home/yuwon/workspace/NN/Assignment2/modified_threelayer.ipynb#Y141sdnNjb2RlLXJlbW90ZQ%3D%3D?line=54'>55</a>\u001b[0m     loss \u001b[39m=\u001b[39m loss_func(y_pred, y)\n",
      "File \u001b[0;32m~/anaconda3/envs/DL/lib/python3.9/site-packages/torch/nn/modules/module.py:1110\u001b[0m, in \u001b[0;36mModule._call_impl\u001b[0;34m(self, *input, **kwargs)\u001b[0m\n\u001b[1;32m   1106\u001b[0m \u001b[39m# If we don't have any hooks, we want to skip the rest of the logic in\u001b[39;00m\n\u001b[1;32m   1107\u001b[0m \u001b[39m# this function, and just call forward.\u001b[39;00m\n\u001b[1;32m   1108\u001b[0m \u001b[39mif\u001b[39;00m \u001b[39mnot\u001b[39;00m (\u001b[39mself\u001b[39m\u001b[39m.\u001b[39m_backward_hooks \u001b[39mor\u001b[39;00m \u001b[39mself\u001b[39m\u001b[39m.\u001b[39m_forward_hooks \u001b[39mor\u001b[39;00m \u001b[39mself\u001b[39m\u001b[39m.\u001b[39m_forward_pre_hooks \u001b[39mor\u001b[39;00m _global_backward_hooks\n\u001b[1;32m   1109\u001b[0m         \u001b[39mor\u001b[39;00m _global_forward_hooks \u001b[39mor\u001b[39;00m _global_forward_pre_hooks):\n\u001b[0;32m-> 1110\u001b[0m     \u001b[39mreturn\u001b[39;00m forward_call(\u001b[39m*\u001b[39;49m\u001b[39minput\u001b[39;49m, \u001b[39m*\u001b[39;49m\u001b[39m*\u001b[39;49mkwargs)\n\u001b[1;32m   1111\u001b[0m \u001b[39m# Do not call functions when jit is used\u001b[39;00m\n\u001b[1;32m   1112\u001b[0m full_backward_hooks, non_full_backward_hooks \u001b[39m=\u001b[39m [], []\n",
      "File \u001b[0;32m~/anaconda3/envs/DL/lib/python3.9/site-packages/torch/nn/modules/container.py:141\u001b[0m, in \u001b[0;36mSequential.forward\u001b[0;34m(self, input)\u001b[0m\n\u001b[1;32m    139\u001b[0m \u001b[39mdef\u001b[39;00m \u001b[39mforward\u001b[39m(\u001b[39mself\u001b[39m, \u001b[39minput\u001b[39m):\n\u001b[1;32m    140\u001b[0m     \u001b[39mfor\u001b[39;00m module \u001b[39min\u001b[39;00m \u001b[39mself\u001b[39m:\n\u001b[0;32m--> 141\u001b[0m         \u001b[39minput\u001b[39m \u001b[39m=\u001b[39m module(\u001b[39minput\u001b[39;49m)\n\u001b[1;32m    142\u001b[0m     \u001b[39mreturn\u001b[39;00m \u001b[39minput\u001b[39m\n",
      "File \u001b[0;32m~/anaconda3/envs/DL/lib/python3.9/site-packages/torch/nn/modules/module.py:1110\u001b[0m, in \u001b[0;36mModule._call_impl\u001b[0;34m(self, *input, **kwargs)\u001b[0m\n\u001b[1;32m   1106\u001b[0m \u001b[39m# If we don't have any hooks, we want to skip the rest of the logic in\u001b[39;00m\n\u001b[1;32m   1107\u001b[0m \u001b[39m# this function, and just call forward.\u001b[39;00m\n\u001b[1;32m   1108\u001b[0m \u001b[39mif\u001b[39;00m \u001b[39mnot\u001b[39;00m (\u001b[39mself\u001b[39m\u001b[39m.\u001b[39m_backward_hooks \u001b[39mor\u001b[39;00m \u001b[39mself\u001b[39m\u001b[39m.\u001b[39m_forward_hooks \u001b[39mor\u001b[39;00m \u001b[39mself\u001b[39m\u001b[39m.\u001b[39m_forward_pre_hooks \u001b[39mor\u001b[39;00m _global_backward_hooks\n\u001b[1;32m   1109\u001b[0m         \u001b[39mor\u001b[39;00m _global_forward_hooks \u001b[39mor\u001b[39;00m _global_forward_pre_hooks):\n\u001b[0;32m-> 1110\u001b[0m     \u001b[39mreturn\u001b[39;00m forward_call(\u001b[39m*\u001b[39;49m\u001b[39minput\u001b[39;49m, \u001b[39m*\u001b[39;49m\u001b[39m*\u001b[39;49mkwargs)\n\u001b[1;32m   1111\u001b[0m \u001b[39m# Do not call functions when jit is used\u001b[39;00m\n\u001b[1;32m   1112\u001b[0m full_backward_hooks, non_full_backward_hooks \u001b[39m=\u001b[39m [], []\n",
      "File \u001b[0;32m~/anaconda3/envs/DL/lib/python3.9/site-packages/torch/nn/modules/linear.py:103\u001b[0m, in \u001b[0;36mLinear.forward\u001b[0;34m(self, input)\u001b[0m\n\u001b[1;32m    102\u001b[0m \u001b[39mdef\u001b[39;00m \u001b[39mforward\u001b[39m(\u001b[39mself\u001b[39m, \u001b[39minput\u001b[39m: Tensor) \u001b[39m-\u001b[39m\u001b[39m>\u001b[39m Tensor:\n\u001b[0;32m--> 103\u001b[0m     \u001b[39mreturn\u001b[39;00m F\u001b[39m.\u001b[39;49mlinear(\u001b[39minput\u001b[39;49m, \u001b[39mself\u001b[39;49m\u001b[39m.\u001b[39;49mweight, \u001b[39mself\u001b[39;49m\u001b[39m.\u001b[39;49mbias)\n",
      "\u001b[0;31mKeyboardInterrupt\u001b[0m: "
     ]
    },
    {
     "data": {
      "image/png": "[encoded data removed]",
      "text/plain": [
       "<Figure size 576x432 with 1 Axes>"
      ]
     },
     "metadata": {
      "needs_background": "light"
     },
     "output_type": "display_data"
    }
   ],
   "source": [
    "result = {}\n",
    "for i in range(10):\n",
    "    model1, loss1 = experiment(torch.tensor(X).float().to(device), torch.tensor(y).float().to(device), config1)\n",
    "    model2, loss2 = experiment(torch.tensor(X).float().to(device), torch.tensor(y).float().to(device), config2)\n",
    "\n",
    "    fig,ax = plt.subplots(figsize=(8,6))\n",
    "    plt.plot(loss1, label='optimzer: Adam')\n",
    "    plt.plot(loss2, label='optimzer: SGD')\n",
    "    plt.xlabel('Iteration')\n",
    "    plt.ylabel('Summed Squared Error')\n",
    "    plt.legend(loc='upper right')\n",
    "    plt.title('PyTorch {0:} network'.format(device))\n",
    "    plt.grid()\n",
    "    "
   ]
  }
 ],
 "metadata": {
  "kernelspec": {
   "display_name": "Python 3.9.12 ('DL')",
   "language": "python",
   "name": "python3"
  },
  "language_info": {
   "codemirror_mode": {
    "name": "ipython",
    "version": 3
   },
   "file_extension": ".py",
   "mimetype": "text/x-python",
   "name": "python",
   "nbconvert_exporter": "python",
   "pygments_lexer": "ipython3",
   "version": "3.9.12"
  },
  "orig_nbformat": 4,
  "vscode": {
   "interpreter": {
    "hash": "fe294e6606534daba89c1dc14d4f5ef002211ec8430f3955bebe6e14ba2710b8"
   }
  }
 },
 "nbformat": 4,
 "nbformat_minor": 2
}
