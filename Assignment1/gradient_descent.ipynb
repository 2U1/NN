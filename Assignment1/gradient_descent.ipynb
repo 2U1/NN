{
 "cells": [
  {
   "cell_type": "code",
   "execution_count": null,
   "metadata": {},
   "outputs": [],
   "source": [
    "import numpy as np\n",
    "import scipy\n",
    "import matplotlib.pyplot as plt\n",
    "import time"
   ]
  },
  {
   "cell_type": "code",
   "execution_count": null,
   "metadata": {},
   "outputs": [],
   "source": [
    "# Define the function that returns the gradient of the polynomial\n",
    "def gradient(weight, X, Y):\n",
    "    # Initialize the gradient\n",
    "    grad = np.zeros(len(weight))\n",
    "    # Compute the gradient\n",
    "    for i in range(len(weight)):\n",
    "        grad[i] = np.sum((weight.dot(X) - Y) * X[i])\n",
    "    return grad"
   ]
  },
  {
   "cell_type": "code",
   "execution_count": null,
   "metadata": {},
   "outputs": [],
   "source": [
    "# Define funtion that plot loss function\n",
    "def plot_loss(loss_history):\n",
    "    plt.plot(loss_history)\n",
    "    plt.xlabel('Iteration')\n",
    "    plt.ylabel('Loss')\n",
    "    plt.show()"
   ]
  },
  {
   "cell_type": "code",
   "execution_count": null,
   "metadata": {},
   "outputs": [],
   "source": [
    "# 2D polynomial gradient descent\n",
    "def gradient_descent(gradient, X, Y, initial, learning_rate=0.001, max_iter=100, stop_tolerance=1e-3, online_loss_plot=True):\n",
    "    \"\"\"\n",
    "    Performs gradient descent on a 2D polynomial\n",
    "    :param gradient: function that returns the gradient of the polynomial\n",
    "    :param X: X values of the polynomial\n",
    "    :param Y: Y values of the polynomial\n",
    "    :param initial: initial guess for the polynomial\n",
    "    :param learning_rate: learning rate for the gradient descent\n",
    "    :param max_iter: maximum number of iterations\n",
    "    :param stop_tolerance: tolerance for stopping the gradient descent\n",
    "    :param online_loss_plot: if true, plot the loss function online\n",
    "    :return: the final guess for the polynomial\n",
    "    \"\"\"\n",
    "    # Initialize the guess\n",
    "    weight = initial\n",
    "    # Initialize the loss\n",
    "    loss = np.sum((Y - np.polyval(weight, X)) ** 2)\n",
    "    # Initialize the loss history\n",
    "    loss_history = [loss]\n",
    "    # Initialize the guess history\n",
    "    weight_history = [weight]\n",
    "    # Initialize the iteration counter\n",
    "    # Perform gradient descent\n",
    "    for iter in range(max_iter):\n",
    "        # Compute the gradient\n",
    "        grad = gradient(weight, X, Y)\n",
    "        # Update the guess\n",
    "        weight = weight - learning_rate * grad\n",
    "        # Update the loss\n",
    "        loss = np.sum((Y - np.polyval(weight, X)) ** 2)\n",
    "        # Update the loss history\n",
    "        loss_history.append(loss)\n",
    "        # Update the guess history\n",
    "        weight_history.append(weight)\n",
    "        # Check if the loss has converged\n",
    "        if np.abs(loss_history[-1] - loss_history[-2]) < stop_tolerance:\n",
    "            break\n",
    "        # Plot the loss function\n",
    "        if online_loss_plot:\n",
    "            time.sleep(0.01)\n",
    "            plot_loss(loss_history)\n",
    "    # Return the final guess\n",
    "    return weight_history[-1]"
   ]
  }
 ],
 "metadata": {
  "kernelspec": {
   "display_name": "Python 3.9.12 ('DL')",
   "language": "python",
   "name": "python3"
  },
  "language_info": {
   "name": "python",
   "version": "3.9.12"
  },
  "orig_nbformat": 4,
  "vscode": {
   "interpreter": {
    "hash": "fe294e6606534daba89c1dc14d4f5ef002211ec8430f3955bebe6e14ba2710b8"
   }
  }
 },
 "nbformat": 4,
 "nbformat_minor": 2
}
